{
  "nbformat": 4,
  "nbformat_minor": 0,
  "metadata": {
    "colab": {
      "provenance": []
    },
    "kernelspec": {
      "name": "python3",
      "display_name": "Python 3"
    },
    "language_info": {
      "name": "python"
    }
  },
  "cells": [
    {
      "cell_type": "code",
      "execution_count": 1,
      "metadata": {
        "id": "1Z-1F8QQaH5g"
      },
      "outputs": [],
      "source": [
        "import numpy as np\n",
        "import pandas as pd\n",
        "import lightgbm as lgb\n",
        "from sklearn.model_selection import train_test_split, RandomizedSearchCV\n",
        "from sklearn.metrics import r2_score, mean_squared_error\n"
      ]
    },
    {
      "cell_type": "code",
      "source": [
        "test_data = pd.read_csv('/content/final_train.csv')\n",
        "train_data = pd.read_csv('/content/final_test_.csv')"
      ],
      "metadata": {
        "id": "zO9s7IN9c52n"
      },
      "execution_count": 10,
      "outputs": []
    },
    {
      "cell_type": "code",
      "source": [
        "test_data.drop(columns=['Unnamed: 0'],inplace=True)\n",
        "train_data.drop(columns=['Unnamed: 0'],inplace=True)"
      ],
      "metadata": {
        "colab": {
          "base_uri": "https://localhost:8080/",
          "height": 339
        },
        "id": "woZKorJSdGQF",
        "outputId": "dae8451b-8b2b-4f7b-db3d-7f4bc20d5735"
      },
      "execution_count": 11,
      "outputs": [
        {
          "output_type": "error",
          "ename": "KeyError",
          "evalue": "\"['Unnamed: 0'] not found in axis\"",
          "traceback": [
            "\u001b[0;31m---------------------------------------------------------------------------\u001b[0m",
            "\u001b[0;31mKeyError\u001b[0m                                  Traceback (most recent call last)",
            "\u001b[0;32m<ipython-input-11-0024a152a26c>\u001b[0m in \u001b[0;36m<cell line: 0>\u001b[0;34m()\u001b[0m\n\u001b[1;32m      1\u001b[0m \u001b[0mtest_data\u001b[0m\u001b[0;34m.\u001b[0m\u001b[0mdrop\u001b[0m\u001b[0;34m(\u001b[0m\u001b[0mcolumns\u001b[0m\u001b[0;34m=\u001b[0m\u001b[0;34m[\u001b[0m\u001b[0;34m'Unnamed: 0'\u001b[0m\u001b[0;34m]\u001b[0m\u001b[0;34m,\u001b[0m\u001b[0minplace\u001b[0m\u001b[0;34m=\u001b[0m\u001b[0;32mTrue\u001b[0m\u001b[0;34m)\u001b[0m\u001b[0;34m\u001b[0m\u001b[0;34m\u001b[0m\u001b[0m\n\u001b[0;32m----> 2\u001b[0;31m \u001b[0mtrain_data\u001b[0m\u001b[0;34m.\u001b[0m\u001b[0mdrop\u001b[0m\u001b[0;34m(\u001b[0m\u001b[0mcolumns\u001b[0m\u001b[0;34m=\u001b[0m\u001b[0;34m[\u001b[0m\u001b[0;34m'Unnamed: 0'\u001b[0m\u001b[0;34m]\u001b[0m\u001b[0;34m,\u001b[0m\u001b[0minplace\u001b[0m\u001b[0;34m=\u001b[0m\u001b[0;32mTrue\u001b[0m\u001b[0;34m)\u001b[0m\u001b[0;34m\u001b[0m\u001b[0;34m\u001b[0m\u001b[0m\n\u001b[0m",
            "\u001b[0;32m/usr/local/lib/python3.11/dist-packages/pandas/core/frame.py\u001b[0m in \u001b[0;36mdrop\u001b[0;34m(self, labels, axis, index, columns, level, inplace, errors)\u001b[0m\n\u001b[1;32m   5579\u001b[0m                 \u001b[0mweight\u001b[0m  \u001b[0;36m1.0\u001b[0m     \u001b[0;36m0.8\u001b[0m\u001b[0;34m\u001b[0m\u001b[0;34m\u001b[0m\u001b[0m\n\u001b[1;32m   5580\u001b[0m         \"\"\"\n\u001b[0;32m-> 5581\u001b[0;31m         return super().drop(\n\u001b[0m\u001b[1;32m   5582\u001b[0m             \u001b[0mlabels\u001b[0m\u001b[0;34m=\u001b[0m\u001b[0mlabels\u001b[0m\u001b[0;34m,\u001b[0m\u001b[0;34m\u001b[0m\u001b[0;34m\u001b[0m\u001b[0m\n\u001b[1;32m   5583\u001b[0m             \u001b[0maxis\u001b[0m\u001b[0;34m=\u001b[0m\u001b[0maxis\u001b[0m\u001b[0;34m,\u001b[0m\u001b[0;34m\u001b[0m\u001b[0;34m\u001b[0m\u001b[0m\n",
            "\u001b[0;32m/usr/local/lib/python3.11/dist-packages/pandas/core/generic.py\u001b[0m in \u001b[0;36mdrop\u001b[0;34m(self, labels, axis, index, columns, level, inplace, errors)\u001b[0m\n\u001b[1;32m   4786\u001b[0m         \u001b[0;32mfor\u001b[0m \u001b[0maxis\u001b[0m\u001b[0;34m,\u001b[0m \u001b[0mlabels\u001b[0m \u001b[0;32min\u001b[0m \u001b[0maxes\u001b[0m\u001b[0;34m.\u001b[0m\u001b[0mitems\u001b[0m\u001b[0;34m(\u001b[0m\u001b[0;34m)\u001b[0m\u001b[0;34m:\u001b[0m\u001b[0;34m\u001b[0m\u001b[0;34m\u001b[0m\u001b[0m\n\u001b[1;32m   4787\u001b[0m             \u001b[0;32mif\u001b[0m \u001b[0mlabels\u001b[0m \u001b[0;32mis\u001b[0m \u001b[0;32mnot\u001b[0m \u001b[0;32mNone\u001b[0m\u001b[0;34m:\u001b[0m\u001b[0;34m\u001b[0m\u001b[0;34m\u001b[0m\u001b[0m\n\u001b[0;32m-> 4788\u001b[0;31m                 \u001b[0mobj\u001b[0m \u001b[0;34m=\u001b[0m \u001b[0mobj\u001b[0m\u001b[0;34m.\u001b[0m\u001b[0m_drop_axis\u001b[0m\u001b[0;34m(\u001b[0m\u001b[0mlabels\u001b[0m\u001b[0;34m,\u001b[0m \u001b[0maxis\u001b[0m\u001b[0;34m,\u001b[0m \u001b[0mlevel\u001b[0m\u001b[0;34m=\u001b[0m\u001b[0mlevel\u001b[0m\u001b[0;34m,\u001b[0m \u001b[0merrors\u001b[0m\u001b[0;34m=\u001b[0m\u001b[0merrors\u001b[0m\u001b[0;34m)\u001b[0m\u001b[0;34m\u001b[0m\u001b[0;34m\u001b[0m\u001b[0m\n\u001b[0m\u001b[1;32m   4789\u001b[0m \u001b[0;34m\u001b[0m\u001b[0m\n\u001b[1;32m   4790\u001b[0m         \u001b[0;32mif\u001b[0m \u001b[0minplace\u001b[0m\u001b[0;34m:\u001b[0m\u001b[0;34m\u001b[0m\u001b[0;34m\u001b[0m\u001b[0m\n",
            "\u001b[0;32m/usr/local/lib/python3.11/dist-packages/pandas/core/generic.py\u001b[0m in \u001b[0;36m_drop_axis\u001b[0;34m(self, labels, axis, level, errors, only_slice)\u001b[0m\n\u001b[1;32m   4828\u001b[0m                 \u001b[0mnew_axis\u001b[0m \u001b[0;34m=\u001b[0m \u001b[0maxis\u001b[0m\u001b[0;34m.\u001b[0m\u001b[0mdrop\u001b[0m\u001b[0;34m(\u001b[0m\u001b[0mlabels\u001b[0m\u001b[0;34m,\u001b[0m \u001b[0mlevel\u001b[0m\u001b[0;34m=\u001b[0m\u001b[0mlevel\u001b[0m\u001b[0;34m,\u001b[0m \u001b[0merrors\u001b[0m\u001b[0;34m=\u001b[0m\u001b[0merrors\u001b[0m\u001b[0;34m)\u001b[0m\u001b[0;34m\u001b[0m\u001b[0;34m\u001b[0m\u001b[0m\n\u001b[1;32m   4829\u001b[0m             \u001b[0;32melse\u001b[0m\u001b[0;34m:\u001b[0m\u001b[0;34m\u001b[0m\u001b[0;34m\u001b[0m\u001b[0m\n\u001b[0;32m-> 4830\u001b[0;31m                 \u001b[0mnew_axis\u001b[0m \u001b[0;34m=\u001b[0m \u001b[0maxis\u001b[0m\u001b[0;34m.\u001b[0m\u001b[0mdrop\u001b[0m\u001b[0;34m(\u001b[0m\u001b[0mlabels\u001b[0m\u001b[0;34m,\u001b[0m \u001b[0merrors\u001b[0m\u001b[0;34m=\u001b[0m\u001b[0merrors\u001b[0m\u001b[0;34m)\u001b[0m\u001b[0;34m\u001b[0m\u001b[0;34m\u001b[0m\u001b[0m\n\u001b[0m\u001b[1;32m   4831\u001b[0m             \u001b[0mindexer\u001b[0m \u001b[0;34m=\u001b[0m \u001b[0maxis\u001b[0m\u001b[0;34m.\u001b[0m\u001b[0mget_indexer\u001b[0m\u001b[0;34m(\u001b[0m\u001b[0mnew_axis\u001b[0m\u001b[0;34m)\u001b[0m\u001b[0;34m\u001b[0m\u001b[0;34m\u001b[0m\u001b[0m\n\u001b[1;32m   4832\u001b[0m \u001b[0;34m\u001b[0m\u001b[0m\n",
            "\u001b[0;32m/usr/local/lib/python3.11/dist-packages/pandas/core/indexes/base.py\u001b[0m in \u001b[0;36mdrop\u001b[0;34m(self, labels, errors)\u001b[0m\n\u001b[1;32m   7068\u001b[0m         \u001b[0;32mif\u001b[0m \u001b[0mmask\u001b[0m\u001b[0;34m.\u001b[0m\u001b[0many\u001b[0m\u001b[0;34m(\u001b[0m\u001b[0;34m)\u001b[0m\u001b[0;34m:\u001b[0m\u001b[0;34m\u001b[0m\u001b[0;34m\u001b[0m\u001b[0m\n\u001b[1;32m   7069\u001b[0m             \u001b[0;32mif\u001b[0m \u001b[0merrors\u001b[0m \u001b[0;34m!=\u001b[0m \u001b[0;34m\"ignore\"\u001b[0m\u001b[0;34m:\u001b[0m\u001b[0;34m\u001b[0m\u001b[0;34m\u001b[0m\u001b[0m\n\u001b[0;32m-> 7070\u001b[0;31m                 \u001b[0;32mraise\u001b[0m \u001b[0mKeyError\u001b[0m\u001b[0;34m(\u001b[0m\u001b[0;34mf\"{labels[mask].tolist()} not found in axis\"\u001b[0m\u001b[0;34m)\u001b[0m\u001b[0;34m\u001b[0m\u001b[0;34m\u001b[0m\u001b[0m\n\u001b[0m\u001b[1;32m   7071\u001b[0m             \u001b[0mindexer\u001b[0m \u001b[0;34m=\u001b[0m \u001b[0mindexer\u001b[0m\u001b[0;34m[\u001b[0m\u001b[0;34m~\u001b[0m\u001b[0mmask\u001b[0m\u001b[0;34m]\u001b[0m\u001b[0;34m\u001b[0m\u001b[0;34m\u001b[0m\u001b[0m\n\u001b[1;32m   7072\u001b[0m         \u001b[0;32mreturn\u001b[0m \u001b[0mself\u001b[0m\u001b[0;34m.\u001b[0m\u001b[0mdelete\u001b[0m\u001b[0;34m(\u001b[0m\u001b[0mindexer\u001b[0m\u001b[0;34m)\u001b[0m\u001b[0;34m\u001b[0m\u001b[0;34m\u001b[0m\u001b[0m\n",
            "\u001b[0;31mKeyError\u001b[0m: \"['Unnamed: 0'] not found in axis\""
          ]
        }
      ]
    },
    {
      "cell_type": "code",
      "source": [
        "# Assuming your list of columns is stored in a variable called 'columns_to_encode'\n",
        "columns_to_encode = ['Sector', 'State', 'NSS-Region', 'District', 'Household Type','NCO_2D', 'NIC_2D',\n",
        "       'Religion of the head of the household',\n",
        "       'Social Group of the head of the household', 'Is_online_Clothing_Purchased_Last365',\n",
        "       'Is_online_Footwear_Purchased_Last365',\n",
        "       'Is_online_Furniture_fixturesPurchased_Last365',\n",
        "       'Is_online_Mobile_Handset_Purchased_Last365',\n",
        "       'Is_online_Personal_Goods_Purchased_Last365',\n",
        "       'Is_online_Recreation_Goods_Purchased_Last365',\n",
        "       'Is_online_Household_Appliances_Purchased_Last365',\n",
        "       'Is_online_Crockery_Utensils_Purchased_Last365',\n",
        "       'Is_online_Sports_Goods_Purchased_Last365',\n",
        "       'Is_online_Medical_Equipment_Purchased_Last365',\n",
        "       'Is_online_Bedding_Purchased_Last365', 'Is_HH_Have_Television',\n",
        "       'Is_HH_Have_Radio', 'Is_HH_Have_Laptop_PC', 'Is_HH_Have_Mobile_handset',\n",
        "       'Is_HH_Have_Bicycle', 'Is_HH_Have_Motorcycle_scooter',\n",
        "       'Is_HH_Have_Motorcar_jeep_van', 'Is_HH_Have_Trucks',\n",
        "       'Is_HH_Have_Animal_cart', 'Is_HH_Have_Refrigerator',\n",
        "       'Is_HH_Have_Washing_machine', 'Is_HH_Have_Airconditioner_aircooler',\n",
        "       'Marital Status_head',\n",
        "       'Whether used internet from any location during last 30 days'] # Fixed typo in column name\n",
        "\n",
        "# Perform one-hot encoding\n",
        "test_data_encoded = pd.get_dummies(test_data, columns=columns_to_encode, dummy_na=False)\n",
        "\n",
        "test_data_encoded"
      ],
      "metadata": {
        "colab": {
          "base_uri": "https://localhost:8080/",
          "height": 773
        },
        "id": "6L7Nbv7gdQFG",
        "outputId": "3b3d4998-de34-4f85-d7de-0cfa50226c5a"
      },
      "execution_count": 12,
      "outputs": [
        {
          "output_type": "error",
          "ename": "KeyError",
          "evalue": "\"None of [Index(['Sector', 'State', 'NSS-Region', 'District', 'Household Type', 'NCO_2D',\\n       'NIC_2D', 'Religion of the head of the household',\\n       'Social Group of the head of the household',\\n       'Is_online_Clothing_Purchased_Last365',\\n       'Is_online_Footwear_Purchased_Last365',\\n       'Is_online_Furniture_fixturesPurchased_Last365',\\n       'Is_online_Mobile_Handset_Purchased_Last365',\\n       'Is_online_Personal_Goods_Purchased_Last365',\\n       'Is_online_Recreation_Goods_Purchased_Last365',\\n       'Is_online_Household_Appliances_Purchased_Last365',\\n       'Is_online_Crockery_Utensils_Purchased_Last365',\\n       'Is_online_Sports_Goods_Purchased_Last365',\\n       'Is_online_Medical_Equipment_Purchased_Last365',\\n       'Is_online_Bedding_Purchased_Last365', 'Is_HH_Have_Television',\\n       'Is_HH_Have_Radio', 'Is_HH_Have_Laptop_PC', 'Is_HH_Have_Mobile_handset',\\n       'Is_HH_Have_Bicycle', 'Is_HH_Have_Motorcycle_scooter',\\n       'Is_HH_Have_Motorcar_jeep_van', 'Is_HH_Have_Trucks',\\n       'Is_HH_Have_Animal_cart', 'Is_HH_Have_Refrigerator',\\n       'Is_HH_Have_Washing_machine', 'Is_HH_Have_Airconditioner_aircooler',\\n       'Marital Status_head',\\n       'Whether used internet from any location during last 30 days'],\\n      dtype='object')] are in the [columns]\"",
          "traceback": [
            "\u001b[0;31m---------------------------------------------------------------------------\u001b[0m",
            "\u001b[0;31mKeyError\u001b[0m                                  Traceback (most recent call last)",
            "\u001b[0;32m<ipython-input-12-7b04992e6286>\u001b[0m in \u001b[0;36m<cell line: 0>\u001b[0;34m()\u001b[0m\n\u001b[1;32m     22\u001b[0m \u001b[0;34m\u001b[0m\u001b[0m\n\u001b[1;32m     23\u001b[0m \u001b[0;31m# Perform one-hot encoding\u001b[0m\u001b[0;34m\u001b[0m\u001b[0;34m\u001b[0m\u001b[0m\n\u001b[0;32m---> 24\u001b[0;31m \u001b[0mtest_data_encoded\u001b[0m \u001b[0;34m=\u001b[0m \u001b[0mpd\u001b[0m\u001b[0;34m.\u001b[0m\u001b[0mget_dummies\u001b[0m\u001b[0;34m(\u001b[0m\u001b[0mtest_data\u001b[0m\u001b[0;34m,\u001b[0m \u001b[0mcolumns\u001b[0m\u001b[0;34m=\u001b[0m\u001b[0mcolumns_to_encode\u001b[0m\u001b[0;34m,\u001b[0m \u001b[0mdummy_na\u001b[0m\u001b[0;34m=\u001b[0m\u001b[0;32mFalse\u001b[0m\u001b[0;34m)\u001b[0m\u001b[0;34m\u001b[0m\u001b[0;34m\u001b[0m\u001b[0m\n\u001b[0m\u001b[1;32m     25\u001b[0m \u001b[0;34m\u001b[0m\u001b[0m\n\u001b[1;32m     26\u001b[0m \u001b[0mtest_data_encoded\u001b[0m\u001b[0;34m\u001b[0m\u001b[0;34m\u001b[0m\u001b[0m\n",
            "\u001b[0;32m/usr/local/lib/python3.11/dist-packages/pandas/core/reshape/encoding.py\u001b[0m in \u001b[0;36mget_dummies\u001b[0;34m(data, prefix, prefix_sep, dummy_na, columns, sparse, drop_first, dtype)\u001b[0m\n\u001b[1;32m    167\u001b[0m             \u001b[0;32mraise\u001b[0m \u001b[0mTypeError\u001b[0m\u001b[0;34m(\u001b[0m\u001b[0;34m\"Input must be a list-like for parameter `columns`\"\u001b[0m\u001b[0;34m)\u001b[0m\u001b[0;34m\u001b[0m\u001b[0;34m\u001b[0m\u001b[0m\n\u001b[1;32m    168\u001b[0m         \u001b[0;32melse\u001b[0m\u001b[0;34m:\u001b[0m\u001b[0;34m\u001b[0m\u001b[0;34m\u001b[0m\u001b[0m\n\u001b[0;32m--> 169\u001b[0;31m             \u001b[0mdata_to_encode\u001b[0m \u001b[0;34m=\u001b[0m \u001b[0mdata\u001b[0m\u001b[0;34m[\u001b[0m\u001b[0mcolumns\u001b[0m\u001b[0;34m]\u001b[0m\u001b[0;34m\u001b[0m\u001b[0;34m\u001b[0m\u001b[0m\n\u001b[0m\u001b[1;32m    170\u001b[0m \u001b[0;34m\u001b[0m\u001b[0m\n\u001b[1;32m    171\u001b[0m         \u001b[0;31m# validate prefixes and separator to avoid silently dropping cols\u001b[0m\u001b[0;34m\u001b[0m\u001b[0;34m\u001b[0m\u001b[0m\n",
            "\u001b[0;32m/usr/local/lib/python3.11/dist-packages/pandas/core/frame.py\u001b[0m in \u001b[0;36m__getitem__\u001b[0;34m(self, key)\u001b[0m\n\u001b[1;32m   4106\u001b[0m             \u001b[0;32mif\u001b[0m \u001b[0mis_iterator\u001b[0m\u001b[0;34m(\u001b[0m\u001b[0mkey\u001b[0m\u001b[0;34m)\u001b[0m\u001b[0;34m:\u001b[0m\u001b[0;34m\u001b[0m\u001b[0;34m\u001b[0m\u001b[0m\n\u001b[1;32m   4107\u001b[0m                 \u001b[0mkey\u001b[0m \u001b[0;34m=\u001b[0m \u001b[0mlist\u001b[0m\u001b[0;34m(\u001b[0m\u001b[0mkey\u001b[0m\u001b[0;34m)\u001b[0m\u001b[0;34m\u001b[0m\u001b[0;34m\u001b[0m\u001b[0m\n\u001b[0;32m-> 4108\u001b[0;31m             \u001b[0mindexer\u001b[0m \u001b[0;34m=\u001b[0m \u001b[0mself\u001b[0m\u001b[0;34m.\u001b[0m\u001b[0mcolumns\u001b[0m\u001b[0;34m.\u001b[0m\u001b[0m_get_indexer_strict\u001b[0m\u001b[0;34m(\u001b[0m\u001b[0mkey\u001b[0m\u001b[0;34m,\u001b[0m \u001b[0;34m\"columns\"\u001b[0m\u001b[0;34m)\u001b[0m\u001b[0;34m[\u001b[0m\u001b[0;36m1\u001b[0m\u001b[0;34m]\u001b[0m\u001b[0;34m\u001b[0m\u001b[0;34m\u001b[0m\u001b[0m\n\u001b[0m\u001b[1;32m   4109\u001b[0m \u001b[0;34m\u001b[0m\u001b[0m\n\u001b[1;32m   4110\u001b[0m         \u001b[0;31m# take() does not accept boolean indexers\u001b[0m\u001b[0;34m\u001b[0m\u001b[0;34m\u001b[0m\u001b[0m\n",
            "\u001b[0;32m/usr/local/lib/python3.11/dist-packages/pandas/core/indexes/base.py\u001b[0m in \u001b[0;36m_get_indexer_strict\u001b[0;34m(self, key, axis_name)\u001b[0m\n\u001b[1;32m   6198\u001b[0m             \u001b[0mkeyarr\u001b[0m\u001b[0;34m,\u001b[0m \u001b[0mindexer\u001b[0m\u001b[0;34m,\u001b[0m \u001b[0mnew_indexer\u001b[0m \u001b[0;34m=\u001b[0m \u001b[0mself\u001b[0m\u001b[0;34m.\u001b[0m\u001b[0m_reindex_non_unique\u001b[0m\u001b[0;34m(\u001b[0m\u001b[0mkeyarr\u001b[0m\u001b[0;34m)\u001b[0m\u001b[0;34m\u001b[0m\u001b[0;34m\u001b[0m\u001b[0m\n\u001b[1;32m   6199\u001b[0m \u001b[0;34m\u001b[0m\u001b[0m\n\u001b[0;32m-> 6200\u001b[0;31m         \u001b[0mself\u001b[0m\u001b[0;34m.\u001b[0m\u001b[0m_raise_if_missing\u001b[0m\u001b[0;34m(\u001b[0m\u001b[0mkeyarr\u001b[0m\u001b[0;34m,\u001b[0m \u001b[0mindexer\u001b[0m\u001b[0;34m,\u001b[0m \u001b[0maxis_name\u001b[0m\u001b[0;34m)\u001b[0m\u001b[0;34m\u001b[0m\u001b[0;34m\u001b[0m\u001b[0m\n\u001b[0m\u001b[1;32m   6201\u001b[0m \u001b[0;34m\u001b[0m\u001b[0m\n\u001b[1;32m   6202\u001b[0m         \u001b[0mkeyarr\u001b[0m \u001b[0;34m=\u001b[0m \u001b[0mself\u001b[0m\u001b[0;34m.\u001b[0m\u001b[0mtake\u001b[0m\u001b[0;34m(\u001b[0m\u001b[0mindexer\u001b[0m\u001b[0;34m)\u001b[0m\u001b[0;34m\u001b[0m\u001b[0;34m\u001b[0m\u001b[0m\n",
            "\u001b[0;32m/usr/local/lib/python3.11/dist-packages/pandas/core/indexes/base.py\u001b[0m in \u001b[0;36m_raise_if_missing\u001b[0;34m(self, key, indexer, axis_name)\u001b[0m\n\u001b[1;32m   6247\u001b[0m         \u001b[0;32mif\u001b[0m \u001b[0mnmissing\u001b[0m\u001b[0;34m:\u001b[0m\u001b[0;34m\u001b[0m\u001b[0;34m\u001b[0m\u001b[0m\n\u001b[1;32m   6248\u001b[0m             \u001b[0;32mif\u001b[0m \u001b[0mnmissing\u001b[0m \u001b[0;34m==\u001b[0m \u001b[0mlen\u001b[0m\u001b[0;34m(\u001b[0m\u001b[0mindexer\u001b[0m\u001b[0;34m)\u001b[0m\u001b[0;34m:\u001b[0m\u001b[0;34m\u001b[0m\u001b[0;34m\u001b[0m\u001b[0m\n\u001b[0;32m-> 6249\u001b[0;31m                 \u001b[0;32mraise\u001b[0m \u001b[0mKeyError\u001b[0m\u001b[0;34m(\u001b[0m\u001b[0;34mf\"None of [{key}] are in the [{axis_name}]\"\u001b[0m\u001b[0;34m)\u001b[0m\u001b[0;34m\u001b[0m\u001b[0;34m\u001b[0m\u001b[0m\n\u001b[0m\u001b[1;32m   6250\u001b[0m \u001b[0;34m\u001b[0m\u001b[0m\n\u001b[1;32m   6251\u001b[0m             \u001b[0mnot_found\u001b[0m \u001b[0;34m=\u001b[0m \u001b[0mlist\u001b[0m\u001b[0;34m(\u001b[0m\u001b[0mensure_index\u001b[0m\u001b[0;34m(\u001b[0m\u001b[0mkey\u001b[0m\u001b[0;34m)\u001b[0m\u001b[0;34m[\u001b[0m\u001b[0mmissing_mask\u001b[0m\u001b[0;34m.\u001b[0m\u001b[0mnonzero\u001b[0m\u001b[0;34m(\u001b[0m\u001b[0;34m)\u001b[0m\u001b[0;34m[\u001b[0m\u001b[0;36m0\u001b[0m\u001b[0;34m]\u001b[0m\u001b[0;34m]\u001b[0m\u001b[0;34m.\u001b[0m\u001b[0munique\u001b[0m\u001b[0;34m(\u001b[0m\u001b[0;34m)\u001b[0m\u001b[0;34m)\u001b[0m\u001b[0;34m\u001b[0m\u001b[0;34m\u001b[0m\u001b[0m\n",
            "\u001b[0;31mKeyError\u001b[0m: \"None of [Index(['Sector', 'State', 'NSS-Region', 'District', 'Household Type', 'NCO_2D',\\n       'NIC_2D', 'Religion of the head of the household',\\n       'Social Group of the head of the household',\\n       'Is_online_Clothing_Purchased_Last365',\\n       'Is_online_Footwear_Purchased_Last365',\\n       'Is_online_Furniture_fixturesPurchased_Last365',\\n       'Is_online_Mobile_Handset_Purchased_Last365',\\n       'Is_online_Personal_Goods_Purchased_Last365',\\n       'Is_online_Recreation_Goods_Purchased_Last365',\\n       'Is_online_Household_Appliances_Purchased_Last365',\\n       'Is_online_Crockery_Utensils_Purchased_Last365',\\n       'Is_online_Sports_Goods_Purchased_Last365',\\n       'Is_online_Medical_Equipment_Purchased_Last365',\\n       'Is_online_Bedding_Purchased_Last365', 'Is_HH_Have_Television',\\n       'Is_HH_Have_Radio', 'Is_HH_Have_Laptop_PC', 'Is_HH_Have_Mobile_handset',\\n       'Is_HH_Have_Bicycle', 'Is_HH_Have_Motorcycle_scooter',\\n       'Is_HH_Have_Motorcar_jeep_van', 'Is_HH_Have_Trucks',\\n       'Is_HH_Have_Animal_cart', 'Is_HH_Have_Refrigerator',\\n       'Is_HH_Have_Washing_machine', 'Is_HH_Have_Airconditioner_aircooler',\\n       'Marital Status_head',\\n       'Whether used internet from any location during last 30 days'],\\n      dtype='object')] are in the [columns]\""
          ]
        }
      ]
    },
    {
      "cell_type": "code",
      "source": [
        "import pandas as pd\n",
        "# Assuming your list of columns is stored in a variable called 'columns_to_encode'\n",
        "columns_to_encode = ['Sector', 'State', 'NSS-Region', 'District', 'Household Type','NCO_2D', 'NIC_2D',\n",
        "       'Religion of the head of the household',\n",
        "       'Social Group of the head of the household',\n",
        "       'Is_online_Clothing_Purchased_Last365',\n",
        "       'Is_online_Footwear_Purchased_Last365',\n",
        "       'Is_online_Furniture_fixturesPurchased_Last365',\n",
        "       'Is_online_Mobile_Handset_Purchased_Last365',\n",
        "       'Is_online_Personal_Goods_Purchased_Last365',\n",
        "       'Is_online_Recreation_Goods_Purchased_Last365',\n",
        "       'Is_online_Household_Appliances_Purchased_Last365',\n",
        "       'Is_online_Crockery_Utensils_Purchased_Last365',\n",
        "       'Is_online_Sports_Goods_Purchased_Last365',\n",
        "       'Is_online_Medical_Equipment_Purchased_Last365',\n",
        "       'Is_online_Bedding_Purchased_Last365', 'Is_HH_Have_Television',\n",
        "       'Is_HH_Have_Radio', 'Is_HH_Have_Laptop_PC', 'Is_HH_Have_Mobile_handset',\n",
        "       'Is_HH_Have_Bicycle', 'Is_HH_Have_Motorcycle_scooter',\n",
        "       'Is_HH_Have_Motorcar_jeep_van', 'Is_HH_Have_Trucks',\n",
        "       'Is_HH_Have_Animal_cart', 'Is_HH_Have_Refrigerator',\n",
        "       'Is_HH_Have_Washing_machine', 'Is_HH_Have_Airconditioner_aircooler',\n",
        "       'Marital Status_head',\n",
        "       'Whether used internet from any location during last 30 days'] # Fixed typo in column name\n",
        "\n",
        "\n",
        "# Perform one-hot encoding\n",
        "train_data_encoded = pd.get_dummies(train_data, columns=columns_to_encode, dummy_na=False)\n",
        "\n",
        "train_data_encoded"
      ],
      "metadata": {
        "colab": {
          "base_uri": "https://localhost:8080/",
          "height": 773
        },
        "id": "tYKBn53jdVme",
        "outputId": "e4651e2b-2fda-4078-9551-4415295c430c"
      },
      "execution_count": 13,
      "outputs": [
        {
          "output_type": "error",
          "ename": "KeyError",
          "evalue": "\"None of [Index(['Sector', 'State', 'NSS-Region', 'District', 'Household Type', 'NCO_2D',\\n       'NIC_2D', 'Religion of the head of the household',\\n       'Social Group of the head of the household',\\n       'Is_online_Clothing_Purchased_Last365',\\n       'Is_online_Footwear_Purchased_Last365',\\n       'Is_online_Furniture_fixturesPurchased_Last365',\\n       'Is_online_Mobile_Handset_Purchased_Last365',\\n       'Is_online_Personal_Goods_Purchased_Last365',\\n       'Is_online_Recreation_Goods_Purchased_Last365',\\n       'Is_online_Household_Appliances_Purchased_Last365',\\n       'Is_online_Crockery_Utensils_Purchased_Last365',\\n       'Is_online_Sports_Goods_Purchased_Last365',\\n       'Is_online_Medical_Equipment_Purchased_Last365',\\n       'Is_online_Bedding_Purchased_Last365', 'Is_HH_Have_Television',\\n       'Is_HH_Have_Radio', 'Is_HH_Have_Laptop_PC', 'Is_HH_Have_Mobile_handset',\\n       'Is_HH_Have_Bicycle', 'Is_HH_Have_Motorcycle_scooter',\\n       'Is_HH_Have_Motorcar_jeep_van', 'Is_HH_Have_Trucks',\\n       'Is_HH_Have_Animal_cart', 'Is_HH_Have_Refrigerator',\\n       'Is_HH_Have_Washing_machine', 'Is_HH_Have_Airconditioner_aircooler',\\n       'Marital Status_head',\\n       'Whether used internet from any location during last 30 days'],\\n      dtype='object')] are in the [columns]\"",
          "traceback": [
            "\u001b[0;31m---------------------------------------------------------------------------\u001b[0m",
            "\u001b[0;31mKeyError\u001b[0m                                  Traceback (most recent call last)",
            "\u001b[0;32m<ipython-input-13-cae7eb312536>\u001b[0m in \u001b[0;36m<cell line: 0>\u001b[0;34m()\u001b[0m\n\u001b[1;32m     25\u001b[0m \u001b[0;34m\u001b[0m\u001b[0m\n\u001b[1;32m     26\u001b[0m \u001b[0;31m# Perform one-hot encoding\u001b[0m\u001b[0;34m\u001b[0m\u001b[0;34m\u001b[0m\u001b[0m\n\u001b[0;32m---> 27\u001b[0;31m \u001b[0mtrain_data_encoded\u001b[0m \u001b[0;34m=\u001b[0m \u001b[0mpd\u001b[0m\u001b[0;34m.\u001b[0m\u001b[0mget_dummies\u001b[0m\u001b[0;34m(\u001b[0m\u001b[0mtrain_data\u001b[0m\u001b[0;34m,\u001b[0m \u001b[0mcolumns\u001b[0m\u001b[0;34m=\u001b[0m\u001b[0mcolumns_to_encode\u001b[0m\u001b[0;34m,\u001b[0m \u001b[0mdummy_na\u001b[0m\u001b[0;34m=\u001b[0m\u001b[0;32mFalse\u001b[0m\u001b[0;34m)\u001b[0m\u001b[0;34m\u001b[0m\u001b[0;34m\u001b[0m\u001b[0m\n\u001b[0m\u001b[1;32m     28\u001b[0m \u001b[0;34m\u001b[0m\u001b[0m\n\u001b[1;32m     29\u001b[0m \u001b[0mtrain_data_encoded\u001b[0m\u001b[0;34m\u001b[0m\u001b[0;34m\u001b[0m\u001b[0m\n",
            "\u001b[0;32m/usr/local/lib/python3.11/dist-packages/pandas/core/reshape/encoding.py\u001b[0m in \u001b[0;36mget_dummies\u001b[0;34m(data, prefix, prefix_sep, dummy_na, columns, sparse, drop_first, dtype)\u001b[0m\n\u001b[1;32m    167\u001b[0m             \u001b[0;32mraise\u001b[0m \u001b[0mTypeError\u001b[0m\u001b[0;34m(\u001b[0m\u001b[0;34m\"Input must be a list-like for parameter `columns`\"\u001b[0m\u001b[0;34m)\u001b[0m\u001b[0;34m\u001b[0m\u001b[0;34m\u001b[0m\u001b[0m\n\u001b[1;32m    168\u001b[0m         \u001b[0;32melse\u001b[0m\u001b[0;34m:\u001b[0m\u001b[0;34m\u001b[0m\u001b[0;34m\u001b[0m\u001b[0m\n\u001b[0;32m--> 169\u001b[0;31m             \u001b[0mdata_to_encode\u001b[0m \u001b[0;34m=\u001b[0m \u001b[0mdata\u001b[0m\u001b[0;34m[\u001b[0m\u001b[0mcolumns\u001b[0m\u001b[0;34m]\u001b[0m\u001b[0;34m\u001b[0m\u001b[0;34m\u001b[0m\u001b[0m\n\u001b[0m\u001b[1;32m    170\u001b[0m \u001b[0;34m\u001b[0m\u001b[0m\n\u001b[1;32m    171\u001b[0m         \u001b[0;31m# validate prefixes and separator to avoid silently dropping cols\u001b[0m\u001b[0;34m\u001b[0m\u001b[0;34m\u001b[0m\u001b[0m\n",
            "\u001b[0;32m/usr/local/lib/python3.11/dist-packages/pandas/core/frame.py\u001b[0m in \u001b[0;36m__getitem__\u001b[0;34m(self, key)\u001b[0m\n\u001b[1;32m   4106\u001b[0m             \u001b[0;32mif\u001b[0m \u001b[0mis_iterator\u001b[0m\u001b[0;34m(\u001b[0m\u001b[0mkey\u001b[0m\u001b[0;34m)\u001b[0m\u001b[0;34m:\u001b[0m\u001b[0;34m\u001b[0m\u001b[0;34m\u001b[0m\u001b[0m\n\u001b[1;32m   4107\u001b[0m                 \u001b[0mkey\u001b[0m \u001b[0;34m=\u001b[0m \u001b[0mlist\u001b[0m\u001b[0;34m(\u001b[0m\u001b[0mkey\u001b[0m\u001b[0;34m)\u001b[0m\u001b[0;34m\u001b[0m\u001b[0;34m\u001b[0m\u001b[0m\n\u001b[0;32m-> 4108\u001b[0;31m             \u001b[0mindexer\u001b[0m \u001b[0;34m=\u001b[0m \u001b[0mself\u001b[0m\u001b[0;34m.\u001b[0m\u001b[0mcolumns\u001b[0m\u001b[0;34m.\u001b[0m\u001b[0m_get_indexer_strict\u001b[0m\u001b[0;34m(\u001b[0m\u001b[0mkey\u001b[0m\u001b[0;34m,\u001b[0m \u001b[0;34m\"columns\"\u001b[0m\u001b[0;34m)\u001b[0m\u001b[0;34m[\u001b[0m\u001b[0;36m1\u001b[0m\u001b[0;34m]\u001b[0m\u001b[0;34m\u001b[0m\u001b[0;34m\u001b[0m\u001b[0m\n\u001b[0m\u001b[1;32m   4109\u001b[0m \u001b[0;34m\u001b[0m\u001b[0m\n\u001b[1;32m   4110\u001b[0m         \u001b[0;31m# take() does not accept boolean indexers\u001b[0m\u001b[0;34m\u001b[0m\u001b[0;34m\u001b[0m\u001b[0m\n",
            "\u001b[0;32m/usr/local/lib/python3.11/dist-packages/pandas/core/indexes/base.py\u001b[0m in \u001b[0;36m_get_indexer_strict\u001b[0;34m(self, key, axis_name)\u001b[0m\n\u001b[1;32m   6198\u001b[0m             \u001b[0mkeyarr\u001b[0m\u001b[0;34m,\u001b[0m \u001b[0mindexer\u001b[0m\u001b[0;34m,\u001b[0m \u001b[0mnew_indexer\u001b[0m \u001b[0;34m=\u001b[0m \u001b[0mself\u001b[0m\u001b[0;34m.\u001b[0m\u001b[0m_reindex_non_unique\u001b[0m\u001b[0;34m(\u001b[0m\u001b[0mkeyarr\u001b[0m\u001b[0;34m)\u001b[0m\u001b[0;34m\u001b[0m\u001b[0;34m\u001b[0m\u001b[0m\n\u001b[1;32m   6199\u001b[0m \u001b[0;34m\u001b[0m\u001b[0m\n\u001b[0;32m-> 6200\u001b[0;31m         \u001b[0mself\u001b[0m\u001b[0;34m.\u001b[0m\u001b[0m_raise_if_missing\u001b[0m\u001b[0;34m(\u001b[0m\u001b[0mkeyarr\u001b[0m\u001b[0;34m,\u001b[0m \u001b[0mindexer\u001b[0m\u001b[0;34m,\u001b[0m \u001b[0maxis_name\u001b[0m\u001b[0;34m)\u001b[0m\u001b[0;34m\u001b[0m\u001b[0;34m\u001b[0m\u001b[0m\n\u001b[0m\u001b[1;32m   6201\u001b[0m \u001b[0;34m\u001b[0m\u001b[0m\n\u001b[1;32m   6202\u001b[0m         \u001b[0mkeyarr\u001b[0m \u001b[0;34m=\u001b[0m \u001b[0mself\u001b[0m\u001b[0;34m.\u001b[0m\u001b[0mtake\u001b[0m\u001b[0;34m(\u001b[0m\u001b[0mindexer\u001b[0m\u001b[0;34m)\u001b[0m\u001b[0;34m\u001b[0m\u001b[0;34m\u001b[0m\u001b[0m\n",
            "\u001b[0;32m/usr/local/lib/python3.11/dist-packages/pandas/core/indexes/base.py\u001b[0m in \u001b[0;36m_raise_if_missing\u001b[0;34m(self, key, indexer, axis_name)\u001b[0m\n\u001b[1;32m   6247\u001b[0m         \u001b[0;32mif\u001b[0m \u001b[0mnmissing\u001b[0m\u001b[0;34m:\u001b[0m\u001b[0;34m\u001b[0m\u001b[0;34m\u001b[0m\u001b[0m\n\u001b[1;32m   6248\u001b[0m             \u001b[0;32mif\u001b[0m \u001b[0mnmissing\u001b[0m \u001b[0;34m==\u001b[0m \u001b[0mlen\u001b[0m\u001b[0;34m(\u001b[0m\u001b[0mindexer\u001b[0m\u001b[0;34m)\u001b[0m\u001b[0;34m:\u001b[0m\u001b[0;34m\u001b[0m\u001b[0;34m\u001b[0m\u001b[0m\n\u001b[0;32m-> 6249\u001b[0;31m                 \u001b[0;32mraise\u001b[0m \u001b[0mKeyError\u001b[0m\u001b[0;34m(\u001b[0m\u001b[0;34mf\"None of [{key}] are in the [{axis_name}]\"\u001b[0m\u001b[0;34m)\u001b[0m\u001b[0;34m\u001b[0m\u001b[0;34m\u001b[0m\u001b[0m\n\u001b[0m\u001b[1;32m   6250\u001b[0m \u001b[0;34m\u001b[0m\u001b[0m\n\u001b[1;32m   6251\u001b[0m             \u001b[0mnot_found\u001b[0m \u001b[0;34m=\u001b[0m \u001b[0mlist\u001b[0m\u001b[0;34m(\u001b[0m\u001b[0mensure_index\u001b[0m\u001b[0;34m(\u001b[0m\u001b[0mkey\u001b[0m\u001b[0;34m)\u001b[0m\u001b[0;34m[\u001b[0m\u001b[0mmissing_mask\u001b[0m\u001b[0;34m.\u001b[0m\u001b[0mnonzero\u001b[0m\u001b[0;34m(\u001b[0m\u001b[0;34m)\u001b[0m\u001b[0;34m[\u001b[0m\u001b[0;36m0\u001b[0m\u001b[0;34m]\u001b[0m\u001b[0;34m]\u001b[0m\u001b[0;34m.\u001b[0m\u001b[0munique\u001b[0m\u001b[0;34m(\u001b[0m\u001b[0;34m)\u001b[0m\u001b[0;34m)\u001b[0m\u001b[0;34m\u001b[0m\u001b[0;34m\u001b[0m\u001b[0m\n",
            "\u001b[0;31mKeyError\u001b[0m: \"None of [Index(['Sector', 'State', 'NSS-Region', 'District', 'Household Type', 'NCO_2D',\\n       'NIC_2D', 'Religion of the head of the household',\\n       'Social Group of the head of the household',\\n       'Is_online_Clothing_Purchased_Last365',\\n       'Is_online_Footwear_Purchased_Last365',\\n       'Is_online_Furniture_fixturesPurchased_Last365',\\n       'Is_online_Mobile_Handset_Purchased_Last365',\\n       'Is_online_Personal_Goods_Purchased_Last365',\\n       'Is_online_Recreation_Goods_Purchased_Last365',\\n       'Is_online_Household_Appliances_Purchased_Last365',\\n       'Is_online_Crockery_Utensils_Purchased_Last365',\\n       'Is_online_Sports_Goods_Purchased_Last365',\\n       'Is_online_Medical_Equipment_Purchased_Last365',\\n       'Is_online_Bedding_Purchased_Last365', 'Is_HH_Have_Television',\\n       'Is_HH_Have_Radio', 'Is_HH_Have_Laptop_PC', 'Is_HH_Have_Mobile_handset',\\n       'Is_HH_Have_Bicycle', 'Is_HH_Have_Motorcycle_scooter',\\n       'Is_HH_Have_Motorcar_jeep_van', 'Is_HH_Have_Trucks',\\n       'Is_HH_Have_Animal_cart', 'Is_HH_Have_Refrigerator',\\n       'Is_HH_Have_Washing_machine', 'Is_HH_Have_Airconditioner_aircooler',\\n       'Marital Status_head',\\n       'Whether used internet from any location during last 30 days'],\\n      dtype='object')] are in the [columns]\""
          ]
        }
      ]
    },
    {
      "cell_type": "code",
      "source": [
        "test_data_encoded.replace({True: 1, False: 0}, inplace=True)"
      ],
      "metadata": {
        "colab": {
          "base_uri": "https://localhost:8080/",
          "height": 141
        },
        "id": "2oLrFvWHdajD",
        "outputId": "63d9cd2a-22a4-4abf-fd6c-0e8f2c991b45"
      },
      "execution_count": 14,
      "outputs": [
        {
          "output_type": "error",
          "ename": "NameError",
          "evalue": "name 'test_data_encoded' is not defined",
          "traceback": [
            "\u001b[0;31m---------------------------------------------------------------------------\u001b[0m",
            "\u001b[0;31mNameError\u001b[0m                                 Traceback (most recent call last)",
            "\u001b[0;32m<ipython-input-14-2f6bf536183b>\u001b[0m in \u001b[0;36m<cell line: 0>\u001b[0;34m()\u001b[0m\n\u001b[0;32m----> 1\u001b[0;31m \u001b[0mtest_data_encoded\u001b[0m\u001b[0;34m.\u001b[0m\u001b[0mreplace\u001b[0m\u001b[0;34m(\u001b[0m\u001b[0;34m{\u001b[0m\u001b[0;32mTrue\u001b[0m\u001b[0;34m:\u001b[0m \u001b[0;36m1\u001b[0m\u001b[0;34m,\u001b[0m \u001b[0;32mFalse\u001b[0m\u001b[0;34m:\u001b[0m \u001b[0;36m0\u001b[0m\u001b[0;34m}\u001b[0m\u001b[0;34m,\u001b[0m \u001b[0minplace\u001b[0m\u001b[0;34m=\u001b[0m\u001b[0;32mTrue\u001b[0m\u001b[0;34m)\u001b[0m\u001b[0;34m\u001b[0m\u001b[0;34m\u001b[0m\u001b[0m\n\u001b[0m",
            "\u001b[0;31mNameError\u001b[0m: name 'test_data_encoded' is not defined"
          ]
        }
      ]
    },
    {
      "cell_type": "code",
      "source": [
        "train_data_encoded.replace({True: 1, False: 0}, inplace=True)"
      ],
      "metadata": {
        "id": "IRL5hNJbdbiK"
      },
      "execution_count": null,
      "outputs": []
    },
    {
      "cell_type": "code",
      "source": [
        "test_data_encoded = pd.DataFrame(test_data_encoded)\n",
        "test_data_encoded.drop(columns=['TotalExpense'],inplace=True)\n",
        "test_data_encoded"
      ],
      "metadata": {
        "id": "PhtKn0ZTde4b"
      },
      "execution_count": null,
      "outputs": []
    },
    {
      "cell_type": "code",
      "source": [
        "train_data_encoded = pd.DataFrame(train_data_encoded)\n",
        "train_data_encoded.drop(columns=['TotalExpense'],inplace=True)\n",
        "train_data_encoded"
      ],
      "metadata": {
        "id": "CA8w18sIdgMR"
      },
      "execution_count": null,
      "outputs": []
    },
    {
      "cell_type": "code",
      "source": [
        "cat_col = test_data.drop(columns= ['Sector', 'State', 'NSS-Region', 'District', 'Household Type',\n",
        "       'Religion of the head of the household',\n",
        "       'Social Group of the head of the household', 'Is_online_Clothing_Purchased_Last365',\n",
        "       'Is_online_Footwear_Purchased_Last365',\n",
        "       'Is_online_Furniture_fixturesPurchased_Last365',\n",
        "       'Is_online_Mobile_Handset_Purchased_Last365',\n",
        "       'Is_online_Personal_Goods_Purchased_Last365',\n",
        "       'Is_online_Recreation_Goods_Purchased_Last365',\n",
        "       'Is_online_Household_Appliances_Purchased_Last365',\n",
        "       'Is_online_Crockery_Utensils_Purchased_Last365',\n",
        "       'Is_online_Sports_Goods_Purchased_Last365',\n",
        "       'Is_online_Medical_Equipment_Purchased_Last365',\n",
        "       'Is_online_Bedding_Purchased_Last365', 'Is_HH_Have_Television',\n",
        "       'Is_HH_Have_Radio', 'Is_HH_Have_Laptop_PC', 'Is_HH_Have_Mobile_handset',\n",
        "       'Is_HH_Have_Bicycle', 'Is_HH_Have_Motorcycle_scooter',\n",
        "       'Is_HH_Have_Motorcar_jeep_van', 'Is_HH_Have_Trucks',\n",
        "       'Is_HH_Have_Animal_cart', 'Is_HH_Have_Refrigerator',\n",
        "       'Is_HH_Have_Washing_machine', 'Is_HH_Have_Airconditioner_aircooler',\n",
        "       'Marital Status_head','Whether used internet from any location during last 30 days'],axis=1,inplace=True)\n"
      ],
      "metadata": {
        "id": "7C26iT3PdkPX"
      },
      "execution_count": null,
      "outputs": []
    },
    {
      "cell_type": "code",
      "source": [
        "cat_col = train_data.drop(columns= ['Sector', 'State', 'NSS-Region', 'District', 'Household Type',\n",
        "       'Religion of the head of the household',\n",
        "       'Social Group of the head of the household',\n",
        "        'Is_online_Clothing_Purchased_Last365',\n",
        "       'Is_online_Footwear_Purchased_Last365',\n",
        "       'Is_online_Furniture_fixturesPurchased_Last365',\n",
        "       'Is_online_Mobile_Handset_Purchased_Last365',\n",
        "       'Is_online_Personal_Goods_Purchased_Last365',\n",
        "       'Is_online_Recreation_Goods_Purchased_Last365',\n",
        "       'Is_online_Household_Appliances_Purchased_Last365',\n",
        "       'Is_online_Crockery_Utensils_Purchased_Last365',\n",
        "       'Is_online_Sports_Goods_Purchased_Last365',\n",
        "       'Is_online_Medical_Equipment_Purchased_Last365',\n",
        "       'Is_online_Bedding_Purchased_Last365', 'Is_HH_Have_Television',\n",
        "       'Is_HH_Have_Radio', 'Is_HH_Have_Laptop_PC', 'Is_HH_Have_Mobile_handset',\n",
        "       'Is_HH_Have_Bicycle', 'Is_HH_Have_Motorcycle_scooter',\n",
        "       'Is_HH_Have_Motorcar_jeep_van', 'Is_HH_Have_Trucks',\n",
        "       'Is_HH_Have_Animal_cart', 'Is_HH_Have_Refrigerator',\n",
        "       'Is_HH_Have_Washing_machine', 'Is_HH_Have_Airconditioner_aircooler',\n",
        "       'Marital Status_head','Whether used internet from any location during last 30 days'],axis=1,inplace=True)"
      ],
      "metadata": {
        "id": "Pb1AuF9SdlC_"
      },
      "execution_count": null,
      "outputs": []
    },
    {
      "cell_type": "code",
      "source": [
        "from sklearn.preprocessing import StandardScaler\n",
        "\n",
        "# and 'columns_to_standardize' is a list of columns you want to standardize\n",
        "\n",
        "columns_to_standardize = ['Male_Count', 'Female_Count',\n",
        "       'Other_Count', 'HH Size (For FDQ)', 'Age_0_18', 'Age_18_60', 'Age_60_above', 'Highest educational level attained_head',   'Total year of education completed_head',\n",
        "       'Highest educational level attained_median',\n",
        "       'Total year of education completed_median', 'No. of days stayed away from home during last 30 days_avg',\n",
        "       'No. of meals usually taken in a day_avg',\n",
        "       'No. of meals taken during last 30 days from school, balwadi etc._avg',\n",
        "       'No. of meals taken during last 30 days from employer as perquisites or part of wage_avg',\n",
        "       'No. of meals taken during last 30 days others_avg',\n",
        "       'No. of meals taken during last 30 days on payment_avg',\n",
        "       'No. of meals taken during last 30 days at home_avg','TotalExpense']\n",
        "\n",
        "\n",
        "scaler = StandardScaler()\n",
        "\n",
        "# Fit the scaler to your training data\n",
        "# Replace 'train_data' with the actual name of your training data DataFrame\n",
        "scaler.fit(train_data[columns_to_standardize])\n",
        "\n",
        "# Transform the test data using the same scaler\n",
        "train_data[columns_to_standardize] = scaler.transform(train_data[columns_to_standardize])\n",
        "train_data_cat = train_data\n",
        "train_data_cat"
      ],
      "metadata": {
        "id": "b2UGKKCwdrHw"
      },
      "execution_count": null,
      "outputs": []
    },
    {
      "cell_type": "code",
      "source": [
        "columns_to_standardize = [ 'Male_Count', 'Female_Count',\n",
        "       'Other_Count', 'HH Size (For FDQ)', 'Age_0_18', 'Age_18_60', 'Age_60_above', 'Highest educational level attained_head',   'Total year of education completed_head',\n",
        "       'Highest educational level attained_median',\n",
        "       'Total year of education completed_median', 'No. of days stayed away from home during last 30 days_avg',\n",
        "       'No. of meals usually taken in a day_avg',\n",
        "       'No. of meals taken during last 30 days from school, balwadi etc._avg',\n",
        "       'No. of meals taken during last 30 days from employer as perquisites or part of wage_avg',\n",
        "       'No. of meals taken during last 30 days others_avg',\n",
        "       'No. of meals taken during last 30 days on payment_avg',\n",
        "       'No. of meals taken during last 30 days at home_avg','TotalExpense']\n",
        "\n",
        "\n",
        "scaler = StandardScaler()\n",
        "\n",
        "# Fit the scaler to your training data\n",
        "# Replace 'train_data' with the actual name of your training data DataFrame\n",
        "scaler.fit(test_data[columns_to_standardize])\n",
        "\n",
        "# Transform the test data using the same scaler\n",
        "test_data[columns_to_standardize] = scaler.transform(test_data[columns_to_standardize])\n",
        "test_data_con = test_data\n",
        "test_data_con"
      ],
      "metadata": {
        "id": "VrOxevlJdu-A"
      },
      "execution_count": null,
      "outputs": []
    },
    {
      "cell_type": "code",
      "source": [
        "final_train = pd.concat([train_data_encoded,train_data_cat],axis=1)\n",
        "final_train"
      ],
      "metadata": {
        "id": "15ln9GIPdxWK"
      },
      "execution_count": null,
      "outputs": []
    },
    {
      "cell_type": "code",
      "source": [
        "final_test = pd.concat([test_data_encoded,test_data_con],axis=1)\n",
        "final_test"
      ],
      "metadata": {
        "id": "oo7shEtydyyu"
      },
      "execution_count": null,
      "outputs": []
    },
    {
      "cell_type": "code",
      "source": [
        "# prompt: lasso regression with mape and r2\n",
        "\n",
        "from sklearn.linear_model import Lasso\n",
        "from sklearn.metrics import mean_absolute_percentage_error\n",
        "\n",
        "# Assuming X_train, y_train, X_test, y_test are defined\n",
        "# Separate Features (X) and Target Variable (y)\n",
        "X_train = final_train.drop('log_TotalExpense', axis=1)  # Remove target from train features\n",
        "y_train = final_train['log_Totalexpense']\n",
        "\n",
        "X_test = final_test.drop('log_totalexpense', axis=1)  # Remove target from test features\n",
        "y_test = final_test['log_totalexpense']\n",
        "\n",
        "# Create and train the Lasso Regression model\n",
        "lasso_model = Lasso(alpha=0.1)  # You can adjust the alpha value\n",
        "lasso_model.fit(X_train, y_train)\n",
        "\n",
        "# Make predictions on the train and test sets\n",
        "y_pred_train_lasso = lasso_model.predict(X_train)\n",
        "y_pred_test_lasso = lasso_model.predict(X_test)\n",
        "\n",
        "# Calculate R-squared for train and test sets\n",
        "r2_train_lasso = r2_score(y_train, y_pred_train_lasso)\n",
        "r2_test_lasso = r2_score(y_test, y_pred_test_lasso)\n",
        "\n",
        "# Calculate MAPE for train and test sets\n",
        "mape_train_lasso = mean_absolute_percentage_error(y_train, y_pred_train_lasso)\n",
        "mape_test_lasso = mean_absolute_percentage_error(y_test, y_pred_test_lasso)\n",
        "\n",
        "print(\"Lasso Regression Results:\")\n",
        "print(\"R-squared (Train):\", r2_train_lasso)\n",
        "print(\"R-squared (Test):\", r2_test_lasso)\n",
        "print(\"MAPE (Train):\", mape_train_lasso)\n",
        "print(\"MAPE (Test):\", mape_test_lasso)\n",
        "\n",
        "# Print the coefficients of the Lasso model\n",
        "print(\"Lasso Model Coefficients:\")\n",
        "lasso_model.coef_\n",
        "\n"
      ],
      "metadata": {
        "colab": {
          "base_uri": "https://localhost:8080/",
          "height": 408
        },
        "id": "XXlbvdXPaxTe",
        "outputId": "089ef6c7-a40a-4962-d848-5db37b4bc512"
      },
      "execution_count": 17,
      "outputs": [
        {
          "output_type": "error",
          "ename": "KeyError",
          "evalue": "\"['log_TotalExpense'] not found in axis\"",
          "traceback": [
            "\u001b[0;31m---------------------------------------------------------------------------\u001b[0m",
            "\u001b[0;31mKeyError\u001b[0m                                  Traceback (most recent call last)",
            "\u001b[0;32m<ipython-input-17-e1cc261d8378>\u001b[0m in \u001b[0;36m<cell line: 0>\u001b[0;34m()\u001b[0m\n\u001b[1;32m      6\u001b[0m \u001b[0;31m# Assuming X_train, y_train, X_test, y_test are defined\u001b[0m\u001b[0;34m\u001b[0m\u001b[0;34m\u001b[0m\u001b[0m\n\u001b[1;32m      7\u001b[0m \u001b[0;31m# Separate Features (X) and Target Variable (y)\u001b[0m\u001b[0;34m\u001b[0m\u001b[0;34m\u001b[0m\u001b[0m\n\u001b[0;32m----> 8\u001b[0;31m \u001b[0mX_train\u001b[0m \u001b[0;34m=\u001b[0m \u001b[0mfinal_train\u001b[0m\u001b[0;34m.\u001b[0m\u001b[0mdrop\u001b[0m\u001b[0;34m(\u001b[0m\u001b[0;34m'log_TotalExpense'\u001b[0m\u001b[0;34m,\u001b[0m \u001b[0maxis\u001b[0m\u001b[0;34m=\u001b[0m\u001b[0;36m1\u001b[0m\u001b[0;34m)\u001b[0m  \u001b[0;31m# Remove target from train features\u001b[0m\u001b[0;34m\u001b[0m\u001b[0;34m\u001b[0m\u001b[0m\n\u001b[0m\u001b[1;32m      9\u001b[0m \u001b[0my_train\u001b[0m \u001b[0;34m=\u001b[0m \u001b[0mfinal_train\u001b[0m\u001b[0;34m[\u001b[0m\u001b[0;34m'log_Totalexpense'\u001b[0m\u001b[0;34m]\u001b[0m\u001b[0;34m\u001b[0m\u001b[0;34m\u001b[0m\u001b[0m\n\u001b[1;32m     10\u001b[0m \u001b[0;34m\u001b[0m\u001b[0m\n",
            "\u001b[0;32m/usr/local/lib/python3.11/dist-packages/pandas/core/frame.py\u001b[0m in \u001b[0;36mdrop\u001b[0;34m(self, labels, axis, index, columns, level, inplace, errors)\u001b[0m\n\u001b[1;32m   5579\u001b[0m                 \u001b[0mweight\u001b[0m  \u001b[0;36m1.0\u001b[0m     \u001b[0;36m0.8\u001b[0m\u001b[0;34m\u001b[0m\u001b[0;34m\u001b[0m\u001b[0m\n\u001b[1;32m   5580\u001b[0m         \"\"\"\n\u001b[0;32m-> 5581\u001b[0;31m         return super().drop(\n\u001b[0m\u001b[1;32m   5582\u001b[0m             \u001b[0mlabels\u001b[0m\u001b[0;34m=\u001b[0m\u001b[0mlabels\u001b[0m\u001b[0;34m,\u001b[0m\u001b[0;34m\u001b[0m\u001b[0;34m\u001b[0m\u001b[0m\n\u001b[1;32m   5583\u001b[0m             \u001b[0maxis\u001b[0m\u001b[0;34m=\u001b[0m\u001b[0maxis\u001b[0m\u001b[0;34m,\u001b[0m\u001b[0;34m\u001b[0m\u001b[0;34m\u001b[0m\u001b[0m\n",
            "\u001b[0;32m/usr/local/lib/python3.11/dist-packages/pandas/core/generic.py\u001b[0m in \u001b[0;36mdrop\u001b[0;34m(self, labels, axis, index, columns, level, inplace, errors)\u001b[0m\n\u001b[1;32m   4786\u001b[0m         \u001b[0;32mfor\u001b[0m \u001b[0maxis\u001b[0m\u001b[0;34m,\u001b[0m \u001b[0mlabels\u001b[0m \u001b[0;32min\u001b[0m \u001b[0maxes\u001b[0m\u001b[0;34m.\u001b[0m\u001b[0mitems\u001b[0m\u001b[0;34m(\u001b[0m\u001b[0;34m)\u001b[0m\u001b[0;34m:\u001b[0m\u001b[0;34m\u001b[0m\u001b[0;34m\u001b[0m\u001b[0m\n\u001b[1;32m   4787\u001b[0m             \u001b[0;32mif\u001b[0m \u001b[0mlabels\u001b[0m \u001b[0;32mis\u001b[0m \u001b[0;32mnot\u001b[0m \u001b[0;32mNone\u001b[0m\u001b[0;34m:\u001b[0m\u001b[0;34m\u001b[0m\u001b[0;34m\u001b[0m\u001b[0m\n\u001b[0;32m-> 4788\u001b[0;31m                 \u001b[0mobj\u001b[0m \u001b[0;34m=\u001b[0m \u001b[0mobj\u001b[0m\u001b[0;34m.\u001b[0m\u001b[0m_drop_axis\u001b[0m\u001b[0;34m(\u001b[0m\u001b[0mlabels\u001b[0m\u001b[0;34m,\u001b[0m \u001b[0maxis\u001b[0m\u001b[0;34m,\u001b[0m \u001b[0mlevel\u001b[0m\u001b[0;34m=\u001b[0m\u001b[0mlevel\u001b[0m\u001b[0;34m,\u001b[0m \u001b[0merrors\u001b[0m\u001b[0;34m=\u001b[0m\u001b[0merrors\u001b[0m\u001b[0;34m)\u001b[0m\u001b[0;34m\u001b[0m\u001b[0;34m\u001b[0m\u001b[0m\n\u001b[0m\u001b[1;32m   4789\u001b[0m \u001b[0;34m\u001b[0m\u001b[0m\n\u001b[1;32m   4790\u001b[0m         \u001b[0;32mif\u001b[0m \u001b[0minplace\u001b[0m\u001b[0;34m:\u001b[0m\u001b[0;34m\u001b[0m\u001b[0;34m\u001b[0m\u001b[0m\n",
            "\u001b[0;32m/usr/local/lib/python3.11/dist-packages/pandas/core/generic.py\u001b[0m in \u001b[0;36m_drop_axis\u001b[0;34m(self, labels, axis, level, errors, only_slice)\u001b[0m\n\u001b[1;32m   4828\u001b[0m                 \u001b[0mnew_axis\u001b[0m \u001b[0;34m=\u001b[0m \u001b[0maxis\u001b[0m\u001b[0;34m.\u001b[0m\u001b[0mdrop\u001b[0m\u001b[0;34m(\u001b[0m\u001b[0mlabels\u001b[0m\u001b[0;34m,\u001b[0m \u001b[0mlevel\u001b[0m\u001b[0;34m=\u001b[0m\u001b[0mlevel\u001b[0m\u001b[0;34m,\u001b[0m \u001b[0merrors\u001b[0m\u001b[0;34m=\u001b[0m\u001b[0merrors\u001b[0m\u001b[0;34m)\u001b[0m\u001b[0;34m\u001b[0m\u001b[0;34m\u001b[0m\u001b[0m\n\u001b[1;32m   4829\u001b[0m             \u001b[0;32melse\u001b[0m\u001b[0;34m:\u001b[0m\u001b[0;34m\u001b[0m\u001b[0;34m\u001b[0m\u001b[0m\n\u001b[0;32m-> 4830\u001b[0;31m                 \u001b[0mnew_axis\u001b[0m \u001b[0;34m=\u001b[0m \u001b[0maxis\u001b[0m\u001b[0;34m.\u001b[0m\u001b[0mdrop\u001b[0m\u001b[0;34m(\u001b[0m\u001b[0mlabels\u001b[0m\u001b[0;34m,\u001b[0m \u001b[0merrors\u001b[0m\u001b[0;34m=\u001b[0m\u001b[0merrors\u001b[0m\u001b[0;34m)\u001b[0m\u001b[0;34m\u001b[0m\u001b[0;34m\u001b[0m\u001b[0m\n\u001b[0m\u001b[1;32m   4831\u001b[0m             \u001b[0mindexer\u001b[0m \u001b[0;34m=\u001b[0m \u001b[0maxis\u001b[0m\u001b[0;34m.\u001b[0m\u001b[0mget_indexer\u001b[0m\u001b[0;34m(\u001b[0m\u001b[0mnew_axis\u001b[0m\u001b[0;34m)\u001b[0m\u001b[0;34m\u001b[0m\u001b[0;34m\u001b[0m\u001b[0m\n\u001b[1;32m   4832\u001b[0m \u001b[0;34m\u001b[0m\u001b[0m\n",
            "\u001b[0;32m/usr/local/lib/python3.11/dist-packages/pandas/core/indexes/base.py\u001b[0m in \u001b[0;36mdrop\u001b[0;34m(self, labels, errors)\u001b[0m\n\u001b[1;32m   7068\u001b[0m         \u001b[0;32mif\u001b[0m \u001b[0mmask\u001b[0m\u001b[0;34m.\u001b[0m\u001b[0many\u001b[0m\u001b[0;34m(\u001b[0m\u001b[0;34m)\u001b[0m\u001b[0;34m:\u001b[0m\u001b[0;34m\u001b[0m\u001b[0;34m\u001b[0m\u001b[0m\n\u001b[1;32m   7069\u001b[0m             \u001b[0;32mif\u001b[0m \u001b[0merrors\u001b[0m \u001b[0;34m!=\u001b[0m \u001b[0;34m\"ignore\"\u001b[0m\u001b[0;34m:\u001b[0m\u001b[0;34m\u001b[0m\u001b[0;34m\u001b[0m\u001b[0m\n\u001b[0;32m-> 7070\u001b[0;31m                 \u001b[0;32mraise\u001b[0m \u001b[0mKeyError\u001b[0m\u001b[0;34m(\u001b[0m\u001b[0;34mf\"{labels[mask].tolist()} not found in axis\"\u001b[0m\u001b[0;34m)\u001b[0m\u001b[0;34m\u001b[0m\u001b[0;34m\u001b[0m\u001b[0m\n\u001b[0m\u001b[1;32m   7071\u001b[0m             \u001b[0mindexer\u001b[0m \u001b[0;34m=\u001b[0m \u001b[0mindexer\u001b[0m\u001b[0;34m[\u001b[0m\u001b[0;34m~\u001b[0m\u001b[0mmask\u001b[0m\u001b[0;34m]\u001b[0m\u001b[0;34m\u001b[0m\u001b[0;34m\u001b[0m\u001b[0m\n\u001b[1;32m   7072\u001b[0m         \u001b[0;32mreturn\u001b[0m \u001b[0mself\u001b[0m\u001b[0;34m.\u001b[0m\u001b[0mdelete\u001b[0m\u001b[0;34m(\u001b[0m\u001b[0mindexer\u001b[0m\u001b[0;34m)\u001b[0m\u001b[0;34m\u001b[0m\u001b[0;34m\u001b[0m\u001b[0m\n",
            "\u001b[0;31mKeyError\u001b[0m: \"['log_TotalExpense'] not found in axis\""
          ]
        }
      ]
    },
    {
      "cell_type": "code",
      "source": [
        "# Assuming X_train, y_train, X_test, y_test are defined\n",
        "# Separate Features (X) and Target Variable (y)\n",
        "# Check if the column name is correct:\n",
        "target_column_train = 'log_TotalExpense'  # This should match the actual column name in final_train\n",
        "target_column_test = 'log_totalexpense'  # This should match the actual column name in final_test\n",
        "\n",
        "# Check if the column exists before dropping:\n",
        "if target_column_train in final_train.columns:\n",
        "    X_train = final_train.drop(target_column_train, axis=1)  # Remove target from train features\n",
        "else:\n",
        "    print(f\"Warning: Column '{target_column_train}' not found in final_train\")\n",
        "    X_train = final_train.copy()  # If not found, keep the original DataFrame\n",
        "\n",
        "if target_column_test in final_test.columns:\n",
        "    X_test = final_test.drop(target_column_test, axis=1)  # Remove target from test features\n",
        "else:\n",
        "    print(f\"Warning: Column '{target_column_test}' not found in final_test\")\n",
        "    X_test = final_test.copy()  # If not found, keep the original DataFrame\n",
        "\n",
        "\n",
        "y_train = final_train[target_column_train] # Use the corrected target column name\n",
        "\n",
        "y_test = final_test[target_column_test] # Use the corrected target column name\n",
        "\n",
        "# Create and train the Lasso Regression model\n",
        "lasso_model = Lasso(alpha=0.1)  # You can adjust the alpha value\n",
        "lasso_model.fit(X_train, y_train)\n",
        "\n",
        "# Make predictions on the train and test sets\n",
        "y_pred_train_lasso = lasso_model.predict(X_train)\n",
        "y_pred_test_lasso = lasso_model.predict(X_test)\n",
        "\n",
        "# Calculate R-squared for train and test sets\n",
        "r2_train_lasso = r2_score(y_train, y_pred_train_lasso)\n",
        "r2_test_lasso = r2_score(y_test, y_pred_test_lasso)\n",
        "\n",
        "# Calculate MAPE for train and test sets\n",
        "mape_train_lasso = mean_absolute_percentage_error(y_train, y_pred_train_lasso)\n",
        "mape_test_lasso = mean_absolute_percentage_error(y_test, y_pred_test_lasso)\n",
        "\n",
        "print(\"Lasso Regression Results:\")\n",
        "print(\"R-squared (Train):\", r2_train_lasso)\n",
        "print(\"R-squared (Test):\", r2_test_lasso)\n",
        "print(\"MAPE (Train):\", mape_train_lasso)\n",
        "print(\"MAPE (Test):\", mape_test_lasso)\n",
        "\n",
        "# Print the coefficients of the Lasso model\n",
        "print(\"Lasso Model Coefficients:\")\n",
        "lasso_model.coef_"
      ],
      "metadata": {
        "colab": {
          "base_uri": "https://localhost:8080/",
          "height": 634
        },
        "id": "IxtSF5XBgNcn",
        "outputId": "23cccbaa-1190-431c-b3ad-9a26ce848e89"
      },
      "execution_count": 18,
      "outputs": [
        {
          "output_type": "stream",
          "name": "stdout",
          "text": [
            "Warning: Column 'log_TotalExpense' not found in final_train\n"
          ]
        },
        {
          "output_type": "error",
          "ename": "KeyError",
          "evalue": "'log_TotalExpense'",
          "traceback": [
            "\u001b[0;31m---------------------------------------------------------------------------\u001b[0m",
            "\u001b[0;31mKeyError\u001b[0m                                  Traceback (most recent call last)",
            "\u001b[0;32m/usr/local/lib/python3.11/dist-packages/pandas/core/indexes/base.py\u001b[0m in \u001b[0;36mget_loc\u001b[0;34m(self, key)\u001b[0m\n\u001b[1;32m   3804\u001b[0m         \u001b[0;32mtry\u001b[0m\u001b[0;34m:\u001b[0m\u001b[0;34m\u001b[0m\u001b[0;34m\u001b[0m\u001b[0m\n\u001b[0;32m-> 3805\u001b[0;31m             \u001b[0;32mreturn\u001b[0m \u001b[0mself\u001b[0m\u001b[0;34m.\u001b[0m\u001b[0m_engine\u001b[0m\u001b[0;34m.\u001b[0m\u001b[0mget_loc\u001b[0m\u001b[0;34m(\u001b[0m\u001b[0mcasted_key\u001b[0m\u001b[0;34m)\u001b[0m\u001b[0;34m\u001b[0m\u001b[0;34m\u001b[0m\u001b[0m\n\u001b[0m\u001b[1;32m   3806\u001b[0m         \u001b[0;32mexcept\u001b[0m \u001b[0mKeyError\u001b[0m \u001b[0;32mas\u001b[0m \u001b[0merr\u001b[0m\u001b[0;34m:\u001b[0m\u001b[0;34m\u001b[0m\u001b[0;34m\u001b[0m\u001b[0m\n",
            "\u001b[0;32mindex.pyx\u001b[0m in \u001b[0;36mpandas._libs.index.IndexEngine.get_loc\u001b[0;34m()\u001b[0m\n",
            "\u001b[0;32mindex.pyx\u001b[0m in \u001b[0;36mpandas._libs.index.IndexEngine.get_loc\u001b[0;34m()\u001b[0m\n",
            "\u001b[0;32mpandas/_libs/hashtable_class_helper.pxi\u001b[0m in \u001b[0;36mpandas._libs.hashtable.PyObjectHashTable.get_item\u001b[0;34m()\u001b[0m\n",
            "\u001b[0;32mpandas/_libs/hashtable_class_helper.pxi\u001b[0m in \u001b[0;36mpandas._libs.hashtable.PyObjectHashTable.get_item\u001b[0;34m()\u001b[0m\n",
            "\u001b[0;31mKeyError\u001b[0m: 'log_TotalExpense'",
            "\nThe above exception was the direct cause of the following exception:\n",
            "\u001b[0;31mKeyError\u001b[0m                                  Traceback (most recent call last)",
            "\u001b[0;32m<ipython-input-18-594393d83cfe>\u001b[0m in \u001b[0;36m<cell line: 0>\u001b[0;34m()\u001b[0m\n\u001b[1;32m     19\u001b[0m \u001b[0;34m\u001b[0m\u001b[0m\n\u001b[1;32m     20\u001b[0m \u001b[0;34m\u001b[0m\u001b[0m\n\u001b[0;32m---> 21\u001b[0;31m \u001b[0my_train\u001b[0m \u001b[0;34m=\u001b[0m \u001b[0mfinal_train\u001b[0m\u001b[0;34m[\u001b[0m\u001b[0mtarget_column_train\u001b[0m\u001b[0;34m]\u001b[0m \u001b[0;31m# Use the corrected target column name\u001b[0m\u001b[0;34m\u001b[0m\u001b[0;34m\u001b[0m\u001b[0m\n\u001b[0m\u001b[1;32m     22\u001b[0m \u001b[0;34m\u001b[0m\u001b[0m\n\u001b[1;32m     23\u001b[0m \u001b[0my_test\u001b[0m \u001b[0;34m=\u001b[0m \u001b[0mfinal_test\u001b[0m\u001b[0;34m[\u001b[0m\u001b[0mtarget_column_test\u001b[0m\u001b[0;34m]\u001b[0m \u001b[0;31m# Use the corrected target column name\u001b[0m\u001b[0;34m\u001b[0m\u001b[0;34m\u001b[0m\u001b[0m\n",
            "\u001b[0;32m/usr/local/lib/python3.11/dist-packages/pandas/core/frame.py\u001b[0m in \u001b[0;36m__getitem__\u001b[0;34m(self, key)\u001b[0m\n\u001b[1;32m   4100\u001b[0m             \u001b[0;32mif\u001b[0m \u001b[0mself\u001b[0m\u001b[0;34m.\u001b[0m\u001b[0mcolumns\u001b[0m\u001b[0;34m.\u001b[0m\u001b[0mnlevels\u001b[0m \u001b[0;34m>\u001b[0m \u001b[0;36m1\u001b[0m\u001b[0;34m:\u001b[0m\u001b[0;34m\u001b[0m\u001b[0;34m\u001b[0m\u001b[0m\n\u001b[1;32m   4101\u001b[0m                 \u001b[0;32mreturn\u001b[0m \u001b[0mself\u001b[0m\u001b[0;34m.\u001b[0m\u001b[0m_getitem_multilevel\u001b[0m\u001b[0;34m(\u001b[0m\u001b[0mkey\u001b[0m\u001b[0;34m)\u001b[0m\u001b[0;34m\u001b[0m\u001b[0;34m\u001b[0m\u001b[0m\n\u001b[0;32m-> 4102\u001b[0;31m             \u001b[0mindexer\u001b[0m \u001b[0;34m=\u001b[0m \u001b[0mself\u001b[0m\u001b[0;34m.\u001b[0m\u001b[0mcolumns\u001b[0m\u001b[0;34m.\u001b[0m\u001b[0mget_loc\u001b[0m\u001b[0;34m(\u001b[0m\u001b[0mkey\u001b[0m\u001b[0;34m)\u001b[0m\u001b[0;34m\u001b[0m\u001b[0;34m\u001b[0m\u001b[0m\n\u001b[0m\u001b[1;32m   4103\u001b[0m             \u001b[0;32mif\u001b[0m \u001b[0mis_integer\u001b[0m\u001b[0;34m(\u001b[0m\u001b[0mindexer\u001b[0m\u001b[0;34m)\u001b[0m\u001b[0;34m:\u001b[0m\u001b[0;34m\u001b[0m\u001b[0;34m\u001b[0m\u001b[0m\n\u001b[1;32m   4104\u001b[0m                 \u001b[0mindexer\u001b[0m \u001b[0;34m=\u001b[0m \u001b[0;34m[\u001b[0m\u001b[0mindexer\u001b[0m\u001b[0;34m]\u001b[0m\u001b[0;34m\u001b[0m\u001b[0;34m\u001b[0m\u001b[0m\n",
            "\u001b[0;32m/usr/local/lib/python3.11/dist-packages/pandas/core/indexes/base.py\u001b[0m in \u001b[0;36mget_loc\u001b[0;34m(self, key)\u001b[0m\n\u001b[1;32m   3810\u001b[0m             ):\n\u001b[1;32m   3811\u001b[0m                 \u001b[0;32mraise\u001b[0m \u001b[0mInvalidIndexError\u001b[0m\u001b[0;34m(\u001b[0m\u001b[0mkey\u001b[0m\u001b[0;34m)\u001b[0m\u001b[0;34m\u001b[0m\u001b[0;34m\u001b[0m\u001b[0m\n\u001b[0;32m-> 3812\u001b[0;31m             \u001b[0;32mraise\u001b[0m \u001b[0mKeyError\u001b[0m\u001b[0;34m(\u001b[0m\u001b[0mkey\u001b[0m\u001b[0;34m)\u001b[0m \u001b[0;32mfrom\u001b[0m \u001b[0merr\u001b[0m\u001b[0;34m\u001b[0m\u001b[0;34m\u001b[0m\u001b[0m\n\u001b[0m\u001b[1;32m   3813\u001b[0m         \u001b[0;32mexcept\u001b[0m \u001b[0mTypeError\u001b[0m\u001b[0;34m:\u001b[0m\u001b[0;34m\u001b[0m\u001b[0;34m\u001b[0m\u001b[0m\n\u001b[1;32m   3814\u001b[0m             \u001b[0;31m# If we have a listlike key, _check_indexing_error will raise\u001b[0m\u001b[0;34m\u001b[0m\u001b[0;34m\u001b[0m\u001b[0m\n",
            "\u001b[0;31mKeyError\u001b[0m: 'log_TotalExpense'"
          ]
        }
      ]
    },
    {
      "cell_type": "code",
      "source": [
        "## prompt: lasso regression with mape and r2\n",
        "\n",
        "from sklearn.linear_model import Lasso\n",
        "from sklearn.metrics import mean_absolute_percentage_error\n",
        "\n",
        "# Assuming X_train, y_train, X_test, y_test are defined\n",
        "\n",
        "# Create and train the Lasso Regression model\n",
        "lasso_model = Lasso(alpha=0.1)  # You can adjust the alpha value\n",
        "lasso_model.fit(X_train, y_train)\n",
        "\n",
        "# Make predictions on the train and test sets\n",
        "y_pred_train_lasso = lasso_model.predict(X_train)\n",
        "y_pred_test_lasso = lasso_model.predict(X_test)\n",
        "\n",
        "# Calculate R-squared for train and test sets\n",
        "r2_train_lasso = r2_score(y_train, y_pred_train_lasso)\n",
        "r2_test_lasso = r2_score(y_test, y_pred_test_lasso)\n",
        "\n",
        "# Calculate MAPE for train and test sets\n",
        "mape_train_lasso = mean_absolute_percentage_error(y_train, y_pred_train_lasso)\n",
        "mape_test_lasso = mean_absolute_percentage_error(y_test, y_pred_test_lasso)\n",
        "\n",
        "print(\"Lasso Regression Results:\")\n",
        "print(\"R-squared (Train):\", r2_train_lasso)\n",
        "print(\"R-squared (Test):\", r2_test_lasso)\n",
        "print(\"MAPE (Train):\", mape_train_lasso)\n",
        "print(\"MAPE (Test):\", mape_test_lasso)\n",
        "\n",
        "# Print the coefficients of the Lasso model\n",
        "print(\"Lasso Model Coefficients:\")\n",
        "lasso_model.coef_\n"
      ],
      "metadata": {
        "colab": {
          "base_uri": "https://localhost:8080/"
        },
        "id": "1cMKMjUhaxWg",
        "outputId": "0cfc5f74-6321-4cae-e1c4-b234682482dd"
      },
      "execution_count": 20,
      "outputs": [
        {
          "output_type": "stream",
          "name": "stdout",
          "text": [
            "Lasso Regression Results:\n",
            "R-squared (Train): 0.4013726758264776\n",
            "R-squared (Test): 0.3999825269335383\n",
            "MAPE (Train): 0.03668776459899644\n",
            "MAPE (Test): 0.03685396833885507\n",
            "Lasso Model Coefficients:\n"
          ]
        },
        {
          "output_type": "execute_result",
          "data": {
            "text/plain": [
              "array([ 0.10199632,  0.        ,  0.        ,  0.        ,  0.        ,\n",
              "        0.        ,  0.        ,  0.        ,  0.01708539,  0.01387189,\n",
              "        0.0335615 ,  0.        ,  0.        , -0.        ,  0.        ,\n",
              "       -0.        ,  0.00227572,  0.00269877, -0.        ,  0.        ,\n",
              "        0.        ,  0.        ,  0.        ,  0.        ,  0.        ,\n",
              "        0.        ,  0.        ,  0.        , -0.        , -0.        ,\n",
              "        0.        ,  0.        ,  0.        , -0.        ,  0.        ,\n",
              "        0.        ,  0.        , -0.        , -0.        , -0.        ,\n",
              "       -0.        , -0.        , -0.        ,  0.        , -0.        ,\n",
              "       -0.        ,  0.        ,  0.        ,  0.        ,  0.        ,\n",
              "        0.        ,  0.        ,  0.        ,  0.        ,  0.        ,\n",
              "        0.        ,  0.        ,  0.        ,  0.        ,  0.        ,\n",
              "       -0.        , -0.        , -0.        ,  0.        ,  0.        ,\n",
              "        0.        ,  0.        ,  0.        ,  0.        ,  0.        ,\n",
              "        0.        ,  0.        ,  0.        ,  0.        ,  0.        ,\n",
              "        0.        ,  0.        ,  0.        ,  0.        ,  0.        ,\n",
              "        0.        ,  0.        ,  0.        ,  0.        , -0.        ,\n",
              "        0.        , -0.        ,  0.        , -0.        ,  0.        ,\n",
              "        0.        ,  0.        ,  0.        ,  0.        ,  0.        ,\n",
              "        0.        ,  0.        ,  0.        , -0.        , -0.        ,\n",
              "        0.        ,  0.        ,  0.        ,  0.        , -0.        ,\n",
              "        0.        ,  0.        ,  0.        , -0.        , -0.        ,\n",
              "        0.        ,  0.        ,  0.        ,  0.        ,  0.        ,\n",
              "        0.        , -0.        ,  0.        ,  0.        ,  0.        ,\n",
              "        0.        ,  0.        ,  0.        ,  0.        ,  0.        ,\n",
              "        0.        ,  0.        ,  0.        ,  0.        ,  0.        ,\n",
              "        0.        ,  0.        , -0.        ,  0.        ,  0.        ,\n",
              "        0.        ,  0.        ,  0.        ,  0.        ,  0.        ,\n",
              "        0.        ,  0.        ,  0.        ,  0.        ,  0.        ,\n",
              "        0.        ,  0.        ,  0.        ,  0.        ,  0.        ,\n",
              "        0.        ,  0.        ,  0.        ,  0.        ,  0.        ,\n",
              "        0.        ,  0.        ,  0.        ,  0.        ,  0.        ,\n",
              "        0.        ,  0.        ,  0.        ,  0.        ,  0.        ,\n",
              "        0.        ,  0.        ,  0.        ,  0.        ,  0.        ,\n",
              "        0.        ,  0.        , -0.        , -0.        ,  0.        ,\n",
              "        0.        ,  0.        ,  0.        ,  0.        ,  0.        ,\n",
              "        0.        , -0.        ,  0.        ,  0.        , -0.        ,\n",
              "        0.        ,  0.        ,  0.        ,  0.        ,  0.        ,\n",
              "        0.        ,  0.        ,  0.        , -0.        , -0.        ,\n",
              "       -0.        ,  0.        , -0.        ,  0.        , -0.        ,\n",
              "        0.        , -0.        ,  0.        , -0.        ,  0.        ,\n",
              "       -0.        ,  0.        , -0.        ,  0.        , -0.        ,\n",
              "        0.        , -0.        ,  0.        , -0.        ,  0.        ,\n",
              "       -0.        ,  0.        , -0.        ,  0.        , -0.        ,\n",
              "        0.        , -0.        ,  0.        , -0.        ,  0.        ,\n",
              "       -0.        ,  0.        ,  0.        , -0.        , -0.        ,\n",
              "        0.        , -0.        ,  0.        , -0.        ,  0.        ,\n",
              "       -0.        ,  0.        , -0.        ,  0.        , -0.        ,\n",
              "        0.        , -0.        ,  0.        , -0.        ,  0.        ,\n",
              "       -0.        , -0.        ,  0.        , -0.        ])"
            ]
          },
          "metadata": {},
          "execution_count": 20
        }
      ]
    },
    {
      "cell_type": "code",
      "source": [
        "# prompt: hyperparametr on lasso with 0.001 give r2,mape also feature selected that are not 0\n",
        "# prompt: hyperparametr on lasso with 0.001 give r2,mape also feature selected that are not 0\n",
        "\n",
        "import pandas as pd\n",
        "import numpy as np\n",
        "from sklearn.model_selection import GridSearchCV # Import GridSearchCV\n",
        "from sklearn.metrics import r2_score, mean_squared_error, mean_absolute_percentage_error # Import necessary metrics\n",
        "import pandas as pd\n",
        "import numpy as np\n",
        "def evaluate_model(y_true, y_pred, X):\n",
        "  \"\"\"Calculates and returns evaluation metrics for a regression model.\"\"\"\n",
        "  r2 = r2_score(y_true, y_pred)\n",
        "  n = len(y_true)\n",
        "  p = X.shape[1]\n",
        "  adj_r2 = 1 - (1 - r2) * (n - 1) / (n - p - 1)\n",
        "  rmse = np.sqrt(mean_squared_error(y_true, y_pred))\n",
        "  mape = mean_absolute_percentage_error(y_true, y_pred)\n",
        "  return r2, adj_r2, rmse, mape\n",
        "\n",
        "# ... (your existing code for data preparation and model training) ...\n",
        "\n",
        "# Define the parameter grid for hyperparameter tuning\n",
        "param_grid = {'alpha': [0.001]}  # You can adjust the range of alpha values\n",
        "\n",
        "# Create a Lasso model\n",
        "lasso_model = Lasso()\n",
        "\n",
        "# Create a GridSearchCV object\n",
        "grid_search = GridSearchCV(lasso_model, param_grid, cv=5, scoring='neg_mean_squared_error')\n",
        "\n",
        "# Fit the grid search to your training data\n",
        "grid_search.fit(X_train, y_train)\n",
        "\n",
        "# Print the best hyperparameters\n",
        "print(\"Best hyperparameters:\", grid_search.best_params_)\n",
        "\n",
        "# Get the best model\n",
        "best_lasso_model = grid_search.best_estimator_\n",
        "\n",
        "# Make predictions using the best model\n",
        "y_train_pred = best_lasso_model.predict(X_train)\n",
        "y_test_pred = best_lasso_model.predict(X_test)\n",
        "\n",
        "# Evaluate the best model\n",
        "r2_train, adj_r2_train, rmse_train, mape_train = evaluate_model(y_train, y_train_pred, X_train)\n",
        "r2_test, adj_r2_test, rmse_test, mape_test = evaluate_model(y_test, y_test_pred, X_test)\n",
        "\n",
        "print(\"\\nTrain Results (Best Model):\")\n",
        "print(\"R-squared:\", r2_train)\n",
        "print(\"Adjusted R-squared:\", adj_r2_train)\n",
        "print(\"RMSE:\", rmse_train)\n",
        "print(\"MAPE:\", mape_train)\n",
        "\n",
        "print(\"\\nTest Results (Best Model):\")\n",
        "print(\"R-squared:\", r2_test)\n",
        "print(\"Adjusted R-squared:\", adj_r2_test)\n",
        "print(\"RMSE:\", rmse_test)\n",
        "print(\"MAPE:\", mape_test)\n",
        "\n",
        "# Identify features with non-zero coefficients\n",
        "feature_importance = pd.DataFrame({'Feature': X_train.columns, 'Coefficient': best_lasso_model.coef_})\n",
        "selected_features = feature_importance[feature_importance['Coefficient'] != 0]\n",
        "print(\"\\nFeatures Selected by Lasso:\")\n",
        "selected_features\n"
      ],
      "metadata": {
        "colab": {
          "base_uri": "https://localhost:8080/",
          "height": 684
        },
        "id": "afGfeyXEaxZo",
        "outputId": "df06f494-77bd-4fb4-d255-e67d919d967f"
      },
      "execution_count": 22,
      "outputs": [
        {
          "output_type": "stream",
          "name": "stdout",
          "text": [
            "Best hyperparameters: {'alpha': 0.001}\n",
            "\n",
            "Train Results (Best Model):\n",
            "R-squared: 0.6462190606416773\n",
            "Adjusted R-squared: 0.6457978646642251\n",
            "RMSE: 0.34991529907105845\n",
            "MAPE: 0.027742272340199436\n",
            "\n",
            "Test Results (Best Model):\n",
            "R-squared: 0.643803845233666\n",
            "Adjusted R-squared: 0.6421014874114621\n",
            "RMSE: 0.35260642050079544\n",
            "MAPE: 0.027931422388282796\n",
            "\n",
            "Features Selected by Lasso:\n"
          ]
        },
        {
          "output_type": "execute_result",
          "data": {
            "text/plain": [
              "                                               Feature   Coefficient\n",
              "0                                    HH_Size__For_FDQ_  8.875255e-02\n",
              "1                                           Male_Count  6.957418e-03\n",
              "4                                             Age_0_18  1.957116e-02\n",
              "6                                         Age_60_above -3.401741e-03\n",
              "7              Highest_educational_level_attained_head  1.657540e-03\n",
              "..                                                 ...           ...\n",
              "240                       Is_HH_Have_Washing_machine_1  5.992014e-16\n",
              "241              Is_HH_Have_Airconditioner_aircooler_0 -5.397424e-02\n",
              "244                              Marital_Status_head_2  9.050795e-02\n",
              "247  Whether_used_internet_from_any_location_during...  1.175612e-01\n",
              "248  Whether_used_internet_from_any_location_during... -2.369678e-17\n",
              "\n",
              "[85 rows x 2 columns]"
            ],
            "text/html": [
              "\n",
              "  <div id=\"df-20f50970-2d58-4b93-b795-391eccf314e6\" class=\"colab-df-container\">\n",
              "    <div>\n",
              "<style scoped>\n",
              "    .dataframe tbody tr th:only-of-type {\n",
              "        vertical-align: middle;\n",
              "    }\n",
              "\n",
              "    .dataframe tbody tr th {\n",
              "        vertical-align: top;\n",
              "    }\n",
              "\n",
              "    .dataframe thead th {\n",
              "        text-align: right;\n",
              "    }\n",
              "</style>\n",
              "<table border=\"1\" class=\"dataframe\">\n",
              "  <thead>\n",
              "    <tr style=\"text-align: right;\">\n",
              "      <th></th>\n",
              "      <th>Feature</th>\n",
              "      <th>Coefficient</th>\n",
              "    </tr>\n",
              "  </thead>\n",
              "  <tbody>\n",
              "    <tr>\n",
              "      <th>0</th>\n",
              "      <td>HH_Size__For_FDQ_</td>\n",
              "      <td>8.875255e-02</td>\n",
              "    </tr>\n",
              "    <tr>\n",
              "      <th>1</th>\n",
              "      <td>Male_Count</td>\n",
              "      <td>6.957418e-03</td>\n",
              "    </tr>\n",
              "    <tr>\n",
              "      <th>4</th>\n",
              "      <td>Age_0_18</td>\n",
              "      <td>1.957116e-02</td>\n",
              "    </tr>\n",
              "    <tr>\n",
              "      <th>6</th>\n",
              "      <td>Age_60_above</td>\n",
              "      <td>-3.401741e-03</td>\n",
              "    </tr>\n",
              "    <tr>\n",
              "      <th>7</th>\n",
              "      <td>Highest_educational_level_attained_head</td>\n",
              "      <td>1.657540e-03</td>\n",
              "    </tr>\n",
              "    <tr>\n",
              "      <th>...</th>\n",
              "      <td>...</td>\n",
              "      <td>...</td>\n",
              "    </tr>\n",
              "    <tr>\n",
              "      <th>240</th>\n",
              "      <td>Is_HH_Have_Washing_machine_1</td>\n",
              "      <td>5.992014e-16</td>\n",
              "    </tr>\n",
              "    <tr>\n",
              "      <th>241</th>\n",
              "      <td>Is_HH_Have_Airconditioner_aircooler_0</td>\n",
              "      <td>-5.397424e-02</td>\n",
              "    </tr>\n",
              "    <tr>\n",
              "      <th>244</th>\n",
              "      <td>Marital_Status_head_2</td>\n",
              "      <td>9.050795e-02</td>\n",
              "    </tr>\n",
              "    <tr>\n",
              "      <th>247</th>\n",
              "      <td>Whether_used_internet_from_any_location_during...</td>\n",
              "      <td>1.175612e-01</td>\n",
              "    </tr>\n",
              "    <tr>\n",
              "      <th>248</th>\n",
              "      <td>Whether_used_internet_from_any_location_during...</td>\n",
              "      <td>-2.369678e-17</td>\n",
              "    </tr>\n",
              "  </tbody>\n",
              "</table>\n",
              "<p>85 rows × 2 columns</p>\n",
              "</div>\n",
              "    <div class=\"colab-df-buttons\">\n",
              "\n",
              "  <div class=\"colab-df-container\">\n",
              "    <button class=\"colab-df-convert\" onclick=\"convertToInteractive('df-20f50970-2d58-4b93-b795-391eccf314e6')\"\n",
              "            title=\"Convert this dataframe to an interactive table.\"\n",
              "            style=\"display:none;\">\n",
              "\n",
              "  <svg xmlns=\"http://www.w3.org/2000/svg\" height=\"24px\" viewBox=\"0 -960 960 960\">\n",
              "    <path d=\"M120-120v-720h720v720H120Zm60-500h600v-160H180v160Zm220 220h160v-160H400v160Zm0 220h160v-160H400v160ZM180-400h160v-160H180v160Zm440 0h160v-160H620v160ZM180-180h160v-160H180v160Zm440 0h160v-160H620v160Z\"/>\n",
              "  </svg>\n",
              "    </button>\n",
              "\n",
              "  <style>\n",
              "    .colab-df-container {\n",
              "      display:flex;\n",
              "      gap: 12px;\n",
              "    }\n",
              "\n",
              "    .colab-df-convert {\n",
              "      background-color: #E8F0FE;\n",
              "      border: none;\n",
              "      border-radius: 50%;\n",
              "      cursor: pointer;\n",
              "      display: none;\n",
              "      fill: #1967D2;\n",
              "      height: 32px;\n",
              "      padding: 0 0 0 0;\n",
              "      width: 32px;\n",
              "    }\n",
              "\n",
              "    .colab-df-convert:hover {\n",
              "      background-color: #E2EBFA;\n",
              "      box-shadow: 0px 1px 2px rgba(60, 64, 67, 0.3), 0px 1px 3px 1px rgba(60, 64, 67, 0.15);\n",
              "      fill: #174EA6;\n",
              "    }\n",
              "\n",
              "    .colab-df-buttons div {\n",
              "      margin-bottom: 4px;\n",
              "    }\n",
              "\n",
              "    [theme=dark] .colab-df-convert {\n",
              "      background-color: #3B4455;\n",
              "      fill: #D2E3FC;\n",
              "    }\n",
              "\n",
              "    [theme=dark] .colab-df-convert:hover {\n",
              "      background-color: #434B5C;\n",
              "      box-shadow: 0px 1px 3px 1px rgba(0, 0, 0, 0.15);\n",
              "      filter: drop-shadow(0px 1px 2px rgba(0, 0, 0, 0.3));\n",
              "      fill: #FFFFFF;\n",
              "    }\n",
              "  </style>\n",
              "\n",
              "    <script>\n",
              "      const buttonEl =\n",
              "        document.querySelector('#df-20f50970-2d58-4b93-b795-391eccf314e6 button.colab-df-convert');\n",
              "      buttonEl.style.display =\n",
              "        google.colab.kernel.accessAllowed ? 'block' : 'none';\n",
              "\n",
              "      async function convertToInteractive(key) {\n",
              "        const element = document.querySelector('#df-20f50970-2d58-4b93-b795-391eccf314e6');\n",
              "        const dataTable =\n",
              "          await google.colab.kernel.invokeFunction('convertToInteractive',\n",
              "                                                    [key], {});\n",
              "        if (!dataTable) return;\n",
              "\n",
              "        const docLinkHtml = 'Like what you see? Visit the ' +\n",
              "          '<a target=\"_blank\" href=https://colab.research.google.com/notebooks/data_table.ipynb>data table notebook</a>'\n",
              "          + ' to learn more about interactive tables.';\n",
              "        element.innerHTML = '';\n",
              "        dataTable['output_type'] = 'display_data';\n",
              "        await google.colab.output.renderOutput(dataTable, element);\n",
              "        const docLink = document.createElement('div');\n",
              "        docLink.innerHTML = docLinkHtml;\n",
              "        element.appendChild(docLink);\n",
              "      }\n",
              "    </script>\n",
              "  </div>\n",
              "\n",
              "\n",
              "<div id=\"df-2bcb2870-4eb1-4ba7-977b-2ce7229827c5\">\n",
              "  <button class=\"colab-df-quickchart\" onclick=\"quickchart('df-2bcb2870-4eb1-4ba7-977b-2ce7229827c5')\"\n",
              "            title=\"Suggest charts\"\n",
              "            style=\"display:none;\">\n",
              "\n",
              "<svg xmlns=\"http://www.w3.org/2000/svg\" height=\"24px\"viewBox=\"0 0 24 24\"\n",
              "     width=\"24px\">\n",
              "    <g>\n",
              "        <path d=\"M19 3H5c-1.1 0-2 .9-2 2v14c0 1.1.9 2 2 2h14c1.1 0 2-.9 2-2V5c0-1.1-.9-2-2-2zM9 17H7v-7h2v7zm4 0h-2V7h2v10zm4 0h-2v-4h2v4z\"/>\n",
              "    </g>\n",
              "</svg>\n",
              "  </button>\n",
              "\n",
              "<style>\n",
              "  .colab-df-quickchart {\n",
              "      --bg-color: #E8F0FE;\n",
              "      --fill-color: #1967D2;\n",
              "      --hover-bg-color: #E2EBFA;\n",
              "      --hover-fill-color: #174EA6;\n",
              "      --disabled-fill-color: #AAA;\n",
              "      --disabled-bg-color: #DDD;\n",
              "  }\n",
              "\n",
              "  [theme=dark] .colab-df-quickchart {\n",
              "      --bg-color: #3B4455;\n",
              "      --fill-color: #D2E3FC;\n",
              "      --hover-bg-color: #434B5C;\n",
              "      --hover-fill-color: #FFFFFF;\n",
              "      --disabled-bg-color: #3B4455;\n",
              "      --disabled-fill-color: #666;\n",
              "  }\n",
              "\n",
              "  .colab-df-quickchart {\n",
              "    background-color: var(--bg-color);\n",
              "    border: none;\n",
              "    border-radius: 50%;\n",
              "    cursor: pointer;\n",
              "    display: none;\n",
              "    fill: var(--fill-color);\n",
              "    height: 32px;\n",
              "    padding: 0;\n",
              "    width: 32px;\n",
              "  }\n",
              "\n",
              "  .colab-df-quickchart:hover {\n",
              "    background-color: var(--hover-bg-color);\n",
              "    box-shadow: 0 1px 2px rgba(60, 64, 67, 0.3), 0 1px 3px 1px rgba(60, 64, 67, 0.15);\n",
              "    fill: var(--button-hover-fill-color);\n",
              "  }\n",
              "\n",
              "  .colab-df-quickchart-complete:disabled,\n",
              "  .colab-df-quickchart-complete:disabled:hover {\n",
              "    background-color: var(--disabled-bg-color);\n",
              "    fill: var(--disabled-fill-color);\n",
              "    box-shadow: none;\n",
              "  }\n",
              "\n",
              "  .colab-df-spinner {\n",
              "    border: 2px solid var(--fill-color);\n",
              "    border-color: transparent;\n",
              "    border-bottom-color: var(--fill-color);\n",
              "    animation:\n",
              "      spin 1s steps(1) infinite;\n",
              "  }\n",
              "\n",
              "  @keyframes spin {\n",
              "    0% {\n",
              "      border-color: transparent;\n",
              "      border-bottom-color: var(--fill-color);\n",
              "      border-left-color: var(--fill-color);\n",
              "    }\n",
              "    20% {\n",
              "      border-color: transparent;\n",
              "      border-left-color: var(--fill-color);\n",
              "      border-top-color: var(--fill-color);\n",
              "    }\n",
              "    30% {\n",
              "      border-color: transparent;\n",
              "      border-left-color: var(--fill-color);\n",
              "      border-top-color: var(--fill-color);\n",
              "      border-right-color: var(--fill-color);\n",
              "    }\n",
              "    40% {\n",
              "      border-color: transparent;\n",
              "      border-right-color: var(--fill-color);\n",
              "      border-top-color: var(--fill-color);\n",
              "    }\n",
              "    60% {\n",
              "      border-color: transparent;\n",
              "      border-right-color: var(--fill-color);\n",
              "    }\n",
              "    80% {\n",
              "      border-color: transparent;\n",
              "      border-right-color: var(--fill-color);\n",
              "      border-bottom-color: var(--fill-color);\n",
              "    }\n",
              "    90% {\n",
              "      border-color: transparent;\n",
              "      border-bottom-color: var(--fill-color);\n",
              "    }\n",
              "  }\n",
              "</style>\n",
              "\n",
              "  <script>\n",
              "    async function quickchart(key) {\n",
              "      const quickchartButtonEl =\n",
              "        document.querySelector('#' + key + ' button');\n",
              "      quickchartButtonEl.disabled = true;  // To prevent multiple clicks.\n",
              "      quickchartButtonEl.classList.add('colab-df-spinner');\n",
              "      try {\n",
              "        const charts = await google.colab.kernel.invokeFunction(\n",
              "            'suggestCharts', [key], {});\n",
              "      } catch (error) {\n",
              "        console.error('Error during call to suggestCharts:', error);\n",
              "      }\n",
              "      quickchartButtonEl.classList.remove('colab-df-spinner');\n",
              "      quickchartButtonEl.classList.add('colab-df-quickchart-complete');\n",
              "    }\n",
              "    (() => {\n",
              "      let quickchartButtonEl =\n",
              "        document.querySelector('#df-2bcb2870-4eb1-4ba7-977b-2ce7229827c5 button');\n",
              "      quickchartButtonEl.style.display =\n",
              "        google.colab.kernel.accessAllowed ? 'block' : 'none';\n",
              "    })();\n",
              "  </script>\n",
              "</div>\n",
              "\n",
              "  <div id=\"id_399eb7bf-b668-4a5a-805f-1325abe86e89\">\n",
              "    <style>\n",
              "      .colab-df-generate {\n",
              "        background-color: #E8F0FE;\n",
              "        border: none;\n",
              "        border-radius: 50%;\n",
              "        cursor: pointer;\n",
              "        display: none;\n",
              "        fill: #1967D2;\n",
              "        height: 32px;\n",
              "        padding: 0 0 0 0;\n",
              "        width: 32px;\n",
              "      }\n",
              "\n",
              "      .colab-df-generate:hover {\n",
              "        background-color: #E2EBFA;\n",
              "        box-shadow: 0px 1px 2px rgba(60, 64, 67, 0.3), 0px 1px 3px 1px rgba(60, 64, 67, 0.15);\n",
              "        fill: #174EA6;\n",
              "      }\n",
              "\n",
              "      [theme=dark] .colab-df-generate {\n",
              "        background-color: #3B4455;\n",
              "        fill: #D2E3FC;\n",
              "      }\n",
              "\n",
              "      [theme=dark] .colab-df-generate:hover {\n",
              "        background-color: #434B5C;\n",
              "        box-shadow: 0px 1px 3px 1px rgba(0, 0, 0, 0.15);\n",
              "        filter: drop-shadow(0px 1px 2px rgba(0, 0, 0, 0.3));\n",
              "        fill: #FFFFFF;\n",
              "      }\n",
              "    </style>\n",
              "    <button class=\"colab-df-generate\" onclick=\"generateWithVariable('selected_features')\"\n",
              "            title=\"Generate code using this dataframe.\"\n",
              "            style=\"display:none;\">\n",
              "\n",
              "  <svg xmlns=\"http://www.w3.org/2000/svg\" height=\"24px\"viewBox=\"0 0 24 24\"\n",
              "       width=\"24px\">\n",
              "    <path d=\"M7,19H8.4L18.45,9,17,7.55,7,17.6ZM5,21V16.75L18.45,3.32a2,2,0,0,1,2.83,0l1.4,1.43a1.91,1.91,0,0,1,.58,1.4,1.91,1.91,0,0,1-.58,1.4L9.25,21ZM18.45,9,17,7.55Zm-12,3A5.31,5.31,0,0,0,4.9,8.1,5.31,5.31,0,0,0,1,6.5,5.31,5.31,0,0,0,4.9,4.9,5.31,5.31,0,0,0,6.5,1,5.31,5.31,0,0,0,8.1,4.9,5.31,5.31,0,0,0,12,6.5,5.46,5.46,0,0,0,6.5,12Z\"/>\n",
              "  </svg>\n",
              "    </button>\n",
              "    <script>\n",
              "      (() => {\n",
              "      const buttonEl =\n",
              "        document.querySelector('#id_399eb7bf-b668-4a5a-805f-1325abe86e89 button.colab-df-generate');\n",
              "      buttonEl.style.display =\n",
              "        google.colab.kernel.accessAllowed ? 'block' : 'none';\n",
              "\n",
              "      buttonEl.onclick = () => {\n",
              "        google.colab.notebook.generateWithVariable('selected_features');\n",
              "      }\n",
              "      })();\n",
              "    </script>\n",
              "  </div>\n",
              "\n",
              "    </div>\n",
              "  </div>\n"
            ],
            "application/vnd.google.colaboratory.intrinsic+json": {
              "type": "dataframe",
              "variable_name": "selected_features",
              "summary": "{\n  \"name\": \"selected_features\",\n  \"rows\": 85,\n  \"fields\": [\n    {\n      \"column\": \"Feature\",\n      \"properties\": {\n        \"dtype\": \"string\",\n        \"num_unique_values\": 85,\n        \"samples\": [\n          \"Is_HH_Have_Refrigerator_0\",\n          \"HH_Size__For_FDQ_\",\n          \"Is_HH_Have_Radio_1\"\n        ],\n        \"semantic_type\": \"\",\n        \"description\": \"\"\n      }\n    },\n    {\n      \"column\": \"Coefficient\",\n      \"properties\": {\n        \"dtype\": \"number\",\n        \"std\": 0.08709646157602302,\n        \"min\": -0.33673340447082134,\n        \"max\": 0.3274847153990889,\n        \"num_unique_values\": 85,\n        \"samples\": [\n          -0.1294843810260927,\n          0.08875254708290907,\n          1.1124325631301772e-16\n        ],\n        \"semantic_type\": \"\",\n        \"description\": \"\"\n      }\n    }\n  ]\n}"
            }
          },
          "metadata": {},
          "execution_count": 22
        }
      ]
    },
    {
      "cell_type": "code",
      "source": [],
      "metadata": {
        "id": "dKmp6Mk4axh7"
      },
      "execution_count": null,
      "outputs": []
    },
    {
      "cell_type": "code",
      "source": [],
      "metadata": {
        "id": "iTUDBLMAaxlY"
      },
      "execution_count": null,
      "outputs": []
    },
    {
      "cell_type": "markdown",
      "source": [
        "**LightGBM**"
      ],
      "metadata": {
        "id": "pPMkP5nikLia"
      }
    },
    {
      "cell_type": "code",
      "source": [
        "# Ensure both X_train and X_test have the same columns\n",
        "X_train, X_test = X_train.align(X_test, join=\"inner\", axis=1)\n",
        "\n",
        "print(\"X_train shape:\", X_train.shape)\n",
        "print(\"X_test shape:\", X_test.shape)\n",
        "\n",
        "lgb_model = lgb.LGBMRegressor(objective='regression', metric='rmse', random_state=42)\n",
        "lgb_model.fit(X_train, y_train)  # Train with corrected features\n",
        "\n",
        "y_pred = lgb_model.predict(X_test)  # Make predictions with aligned test set\n",
        "\n",
        "print(\"Model trained and tested successfully!\")\n"
      ],
      "metadata": {
        "colab": {
          "base_uri": "https://localhost:8080/"
        },
        "id": "QaDQuRGuaWgA",
        "outputId": "9c342dd9-3c12-462d-ce67-c47c1438ffe8"
      },
      "execution_count": 23,
      "outputs": [
        {
          "output_type": "stream",
          "name": "stdout",
          "text": [
            "X_train shape: (209396, 249)\n",
            "X_test shape: (52350, 249)\n",
            "[LightGBM] [Info] Auto-choosing row-wise multi-threading, the overhead of testing was 0.082676 seconds.\n",
            "You can set `force_row_wise=true` to remove the overhead.\n",
            "And if memory is not enough, you can set `force_col_wise=true`.\n",
            "[LightGBM] [Info] Total Bins 988\n",
            "[LightGBM] [Info] Number of data points in the train set: 209396, number of used features: 249\n",
            "[LightGBM] [Info] Start training from score 9.764769\n",
            "Model trained and tested successfully!\n"
          ]
        }
      ]
    },
    {
      "cell_type": "code",
      "source": [
        "import numpy as np\n",
        "import lightgbm as lgb\n",
        "from sklearn.metrics import r2_score, mean_squared_error\n",
        "\n",
        "# Function to calculate MAPE\n",
        "def mean_absolute_percentage_error(y_true, y_pred):\n",
        "    y_true, y_pred = np.array(y_true), np.array(y_pred)\n",
        "    return np.mean(np.abs((y_true - y_pred) / y_true)) * 100\n"
      ],
      "metadata": {
        "id": "IFCq8-93aSPq"
      },
      "execution_count": 24,
      "outputs": []
    },
    {
      "cell_type": "code",
      "source": [
        "# Define the model\n",
        "lgb_model = lgb.LGBMRegressor(objective='regression', metric='rmse', random_state=42)\n",
        "\n",
        "# Train the model\n",
        "lgb_model.fit(X_train, y_train)\n",
        "\n",
        "# Make predictions on test data\n",
        "y_pred = lgb_model.predict(X_test)"
      ],
      "metadata": {
        "colab": {
          "base_uri": "https://localhost:8080/"
        },
        "id": "XEtg5f-gab4R",
        "outputId": "fb306ddf-320b-447a-f8d9-4d2f59bf5a51"
      },
      "execution_count": 25,
      "outputs": [
        {
          "output_type": "stream",
          "name": "stdout",
          "text": [
            "[LightGBM] [Info] Auto-choosing row-wise multi-threading, the overhead of testing was 0.082597 seconds.\n",
            "You can set `force_row_wise=true` to remove the overhead.\n",
            "And if memory is not enough, you can set `force_col_wise=true`.\n",
            "[LightGBM] [Info] Total Bins 988\n",
            "[LightGBM] [Info] Number of data points in the train set: 209396, number of used features: 249\n",
            "[LightGBM] [Info] Start training from score 9.764769\n"
          ]
        }
      ]
    },
    {
      "cell_type": "code",
      "source": [
        "# Calculate metrics\n",
        "r2 = r2_score(y_test, y_pred)\n",
        "rmse = np.sqrt(mean_squared_error(y_test, y_pred))\n",
        "mape = mean_absolute_percentage_error(y_test, y_pred)\n",
        "\n",
        "# Print results\n",
        "print(f\"✅ LightGBM R² Score: {r2:.4f}\")\n",
        "print(f\"✅ LightGBM RMSE: {rmse:.4f}\")\n",
        "print(f\"✅ LightGBM MAPE: {mape:.2f}\")\n"
      ],
      "metadata": {
        "colab": {
          "base_uri": "https://localhost:8080/"
        },
        "id": "6cib4733ae1o",
        "outputId": "52c2c3ec-7084-4dbd-ac1d-a8c645fcc261"
      },
      "execution_count": 26,
      "outputs": [
        {
          "output_type": "stream",
          "name": "stdout",
          "text": [
            "✅ LightGBM R² Score: 0.6890\n",
            "✅ LightGBM RMSE: 0.3295\n",
            "✅ LightGBM MAPE: 2.60\n"
          ]
        }
      ]
    },
    {
      "cell_type": "code",
      "source": [],
      "metadata": {
        "id": "ZowfxZf5g8ku"
      },
      "execution_count": null,
      "outputs": []
    },
    {
      "cell_type": "code",
      "source": [
        "from sklearn.linear_model import  Ridge, ElasticNet\n",
        "from sklearn.metrics import r2_score, mean_squared_error\n",
        "\n",
        "\n",
        "# Apply L2 Regularization (Ridge)\n",
        "ridge = Ridge(alpha=0.01)\n",
        "ridge.fit(X_train, y_train)\n",
        "y_pred_ridge = ridge.predict(X_test)\n",
        "\n",
        "# Apply Elastic Net (L1 + L2)\n",
        "elastic_net = ElasticNet(alpha=0.01, l1_ratio=0.5)  # l1_ratio=0.5 means equal mix of L1 & L2\n",
        "elastic_net.fit(X_train, y_train)\n",
        "y_pred_elastic = elastic_net.predict(X_test)\n",
        "\n",
        "\n",
        "r2_ridge = r2_score(y_test, y_pred_ridge)\n",
        "rmse_ridge = mean_squared_error(y_test, y_pred_ridge)\n",
        "\n",
        "r2_elastic = r2_score(y_test, y_pred_elastic)\n",
        "rmse_elastic = mean_squared_error(y_test, y_pred_elastic)\n",
        "\n",
        "from sklearn.metrics import mean_squared_error\n",
        "\n",
        "# Compute RMSE manually\n",
        "\n",
        "rmse_ridge = mean_squared_error(y_test, y_pred_ridge) ** 0.5\n",
        "rmse_elastic = mean_squared_error(y_test, y_pred_elastic) ** 0.5\n",
        "\n",
        "# Print Results\n",
        "\n",
        "print(f\"Ridge (L2) - R²: {r2_ridge:.4f}, RMSE: {rmse_ridge:.4f}\")\n",
        "print(f\"Elastic Net (L1+L2) - R²: {r2_elastic:.4f}, RMSE: {rmse_elastic:.4f}\")\n"
      ],
      "metadata": {
        "colab": {
          "base_uri": "https://localhost:8080/"
        },
        "id": "3Im7zmODhCdn",
        "outputId": "12ba5b32-5d0a-4a00-f335-a5fcaae9f03d"
      },
      "execution_count": 27,
      "outputs": [
        {
          "output_type": "stream",
          "name": "stdout",
          "text": [
            "Ridge (L2) - R²: 0.6510, RMSE: 0.3490\n",
            "Elastic Net (L1+L2) - R²: 0.6068, RMSE: 0.3705\n"
          ]
        }
      ]
    },
    {
      "cell_type": "code",
      "source": [],
      "metadata": {
        "id": "Odm5D874hC7-"
      },
      "execution_count": null,
      "outputs": []
    },
    {
      "cell_type": "code",
      "source": [],
      "metadata": {
        "id": "hCxcVx3UhaOt"
      },
      "execution_count": null,
      "outputs": []
    },
    {
      "cell_type": "markdown",
      "source": [
        "**XGBoost**"
      ],
      "metadata": {
        "id": "qvYqzo_AkEaZ"
      }
    },
    {
      "cell_type": "code",
      "source": [
        "import numpy as np\n",
        "import pandas as pd\n",
        "from sklearn.ensemble import GradientBoostingRegressor\n",
        "from xgboost import XGBRegressor\n",
        "from sklearn.metrics import r2_score, mean_squared_error\n",
        "\n",
        "# Ensure Train & Test Have the Same Features\n",
        "X_train, X_test = X_train.align(X_test, join=\"inner\", axis=1)\n",
        "\n",
        "# Verify Columns Match\n",
        "print(\"Train Columns:\", X_train.columns.tolist())\n",
        "print(\"Test Columns:\", X_test.columns.tolist())\n",
        "\n",
        "# Train XGBoost Model\n",
        "xgb = XGBRegressor(n_estimators=100, learning_rate=0.1, max_depth=6, random_state=42)\n",
        "xgb.fit(X_train, y_train)\n",
        "y_pred_xgb = xgb.predict(X_test)\n",
        "\n",
        "# Train Gradient Boosting Model\n",
        "gbr = GradientBoostingRegressor(n_estimators=100, learning_rate=0.1, max_depth=6, random_state=42)\n",
        "gbr.fit(X_train, y_train)\n",
        "y_pred_gbr = gbr.predict(X_test)\n",
        "\n",
        "# Evaluate Performance\n",
        "def mean_absolute_percentage_error(y_true, y_pred):\n",
        "    return np.mean(np.abs((y_true - y_pred) / y_true)) * 100\n",
        "\n",
        "# Calculate metrics for XGBoost\n",
        "r2_xgb = r2_score(y_test, y_pred_xgb)\n",
        "rmse_xgb = mean_squared_error(y_test, y_pred_xgb) ** 0.5\n",
        "mape_xgb = mean_absolute_percentage_error(y_test, y_pred_xgb)\n",
        "\n",
        "# Calculate metrics for Gradient Boosting #This was missing before\n",
        "r2_gbr = r2_score(y_test, y_pred_gbr)\n",
        "rmse_gbr = mean_squared_error(y_test, y_pred_gbr) ** 0.5\n",
        "mape_gbr = mean_absolute_percentage_error(y_test, y_pred_gbr)\n",
        "\n",
        "\n",
        "# Print Results\n",
        "print(f\"XGBoost - R²: {r2_xgb:.4f}, RMSE: {rmse_xgb:.4f}, MAPE: {mape_xgb:.2f}%\")\n",
        "print(f\"Gradient Boosting - R²: {r2_gbr:.4f}, RMSE: {rmse_gbr:.4f}, MAPE: {mape_gbr:.2f}%\")"
      ],
      "metadata": {
        "colab": {
          "base_uri": "https://localhost:8080/"
        },
        "id": "ROSwcNYoiz_R",
        "outputId": "a79b5e93-d1a7-4b91-b3a0-53284b718a3e"
      },
      "execution_count": 29,
      "outputs": [
        {
          "output_type": "stream",
          "name": "stdout",
          "text": [
            "Train Columns: ['HH_Size__For_FDQ_', 'Male_Count', 'Female_Count', 'Other_Count', 'Age_0_18', 'Age_18_60', 'Age_60_above', 'Highest_educational_level_attained_head', 'Total_year_of_education_completed_head', 'Highest_educational_level_attained_median', 'Total_year_of_education_completed_median', 'No__of_days_stayed_away_from_home_during_last_30_days_avg', 'No__of_meals_usually_taken_in_a_day_avg', 'No__of_meals_taken_during_last_30_days_from_school__balwadi_etc__avg', 'No__of_meals_taken_during_last_30_days_from_employer_as_perquisites_or_part_of_wage_avg', 'No__of_meals_taken_during_last_30_days_others_avg', 'No__of_meals_taken_during_last_30_days_on_payment_avg', 'No__of_meals_taken_during_last_30_days_at_home_avg', 'Sector_1', 'Sector_2', 'State_1', 'State_2', 'State_3', 'State_4', 'State_5', 'State_6', 'State_7', 'State_8', 'State_9', 'State_10', 'State_11', 'State_12', 'State_13', 'State_14', 'State_15', 'State_16', 'State_17', 'State_18', 'State_19', 'State_20', 'State_21', 'State_22', 'State_23', 'State_24', 'State_25', 'State_27', 'State_28', 'State_29', 'State_30', 'State_31', 'State_32', 'State_33', 'State_34', 'State_35', 'State_36', 'State_37', 'Household_Type_1', 'Household_Type_2', 'Household_Type_3', 'Household_Type_4', 'Household_Type_5', 'Household_Type_6', 'Household_Type_9', 'NCO_2D_11', 'NCO_2D_12', 'NCO_2D_13', 'NCO_2D_14', 'NCO_2D_21', 'NCO_2D_22', 'NCO_2D_23', 'NCO_2D_24', 'NCO_2D_25', 'NCO_2D_26', 'NCO_2D_31', 'NCO_2D_32', 'NCO_2D_33', 'NCO_2D_34', 'NCO_2D_35', 'NCO_2D_41', 'NCO_2D_42', 'NCO_2D_43', 'NCO_2D_44', 'NCO_2D_51', 'NCO_2D_52', 'NCO_2D_53', 'NCO_2D_54', 'NCO_2D_61', 'NCO_2D_62', 'NCO_2D_63', 'NCO_2D_71', 'NCO_2D_72', 'NCO_2D_73', 'NCO_2D_74', 'NCO_2D_75', 'NCO_2D_81', 'NCO_2D_82', 'NCO_2D_83', 'NCO_2D_91', 'NCO_2D_92', 'NCO_2D_93', 'NCO_2D_94', 'NCO_2D_95', 'NCO_2D_96', 'NIC_2D_10', 'NIC_2D_11', 'NIC_2D_12', 'NIC_2D_13', 'NIC_2D_14', 'NIC_2D_15', 'NIC_2D_16', 'NIC_2D_17', 'NIC_2D_18', 'NIC_2D_19', 'NIC_2D_20', 'NIC_2D_21', 'NIC_2D_22', 'NIC_2D_23', 'NIC_2D_24', 'NIC_2D_25', 'NIC_2D_26', 'NIC_2D_27', 'NIC_2D_28', 'NIC_2D_29', 'NIC_2D_30', 'NIC_2D_31', 'NIC_2D_32', 'NIC_2D_33', 'NIC_2D_35', 'NIC_2D_36', 'NIC_2D_37', 'NIC_2D_38', 'NIC_2D_39', 'NIC_2D_41', 'NIC_2D_42', 'NIC_2D_43', 'NIC_2D_45', 'NIC_2D_46', 'NIC_2D_47', 'NIC_2D_49', 'NIC_2D_50', 'NIC_2D_51', 'NIC_2D_52', 'NIC_2D_53', 'NIC_2D_55', 'NIC_2D_56', 'NIC_2D_58', 'NIC_2D_59', 'NIC_2D_60', 'NIC_2D_61', 'NIC_2D_62', 'NIC_2D_63', 'NIC_2D_64', 'NIC_2D_65', 'NIC_2D_66', 'NIC_2D_68', 'NIC_2D_69', 'NIC_2D_70', 'NIC_2D_71', 'NIC_2D_72', 'NIC_2D_73', 'NIC_2D_74', 'NIC_2D_75', 'NIC_2D_77', 'NIC_2D_78', 'NIC_2D_79', 'NIC_2D_80', 'NIC_2D_81', 'NIC_2D_82', 'NIC_2D_84', 'NIC_2D_85', 'NIC_2D_86', 'NIC_2D_87', 'NIC_2D_88', 'NIC_2D_89', 'NIC_2D_90', 'NIC_2D_91', 'NIC_2D_92', 'NIC_2D_93', 'NIC_2D_94', 'NIC_2D_95', 'NIC_2D_96', 'NIC_2D_97', 'NIC_2D_99', 'Religion_of_the_head_of_the_household_0', 'Religion_of_the_head_of_the_household_1', 'Religion_of_the_head_of_the_household_2', 'Religion_of_the_head_of_the_household_3', 'Religion_of_the_head_of_the_household_4', 'Religion_of_the_head_of_the_household_5', 'Religion_of_the_head_of_the_household_6', 'Religion_of_the_head_of_the_household_7', 'Religion_of_the_head_of_the_household_9', 'Social_Group_of_the_head_of_the_household_0', 'Social_Group_of_the_head_of_the_household_1', 'Social_Group_of_the_head_of_the_household_2', 'Social_Group_of_the_head_of_the_household_3', 'Social_Group_of_the_head_of_the_household_9', 'Is_online_Clothing_Purchased_Last365_0', 'Is_online_Clothing_Purchased_Last365_1', 'Is_online_Footwear_Purchased_Last365_0', 'Is_online_Footwear_Purchased_Last365_1', 'Is_online_Furniture_fixturesPurchased_Last365_0', 'Is_online_Furniture_fixturesPurchased_Last365_1', 'Is_online_Mobile_Handset_Purchased_Last365_0', 'Is_online_Mobile_Handset_Purchased_Last365_1', 'Is_online_Personal_Goods_Purchased_Last365_0', 'Is_online_Personal_Goods_Purchased_Last365_1', 'Is_online_Recreation_Goods_Purchased_Last365_0', 'Is_online_Recreation_Goods_Purchased_Last365_1', 'Is_online_Household_Appliances_Purchased_Last365_0', 'Is_online_Household_Appliances_Purchased_Last365_1', 'Is_online_Crockery_Utensils_Purchased_Last365_0', 'Is_online_Crockery_Utensils_Purchased_Last365_1', 'Is_online_Sports_Goods_Purchased_Last365_0', 'Is_online_Sports_Goods_Purchased_Last365_1', 'Is_online_Medical_Equipment_Purchased_Last365_0', 'Is_online_Medical_Equipment_Purchased_Last365_1', 'Is_online_Bedding_Purchased_Last365_0', 'Is_online_Bedding_Purchased_Last365_1', 'Is_HH_Have_Television_0', 'Is_HH_Have_Television_1', 'Is_HH_Have_Radio_0', 'Is_HH_Have_Radio_1', 'Is_HH_Have_Laptop_PC_0', 'Is_HH_Have_Laptop_PC_1', 'Is_HH_Have_Mobile_handset_0', 'Is_HH_Have_Mobile_handset_1', 'Is_HH_Have_Bicycle_0', 'Is_HH_Have_Bicycle_1', 'Is_HH_Have_Motorcycle_scooter_0', 'Is_HH_Have_Motorcycle_scooter_1', 'Is_HH_Have_Motorcar_jeep_van_0', 'Is_HH_Have_Motorcar_jeep_van_1', 'Is_HH_Have_Trucks_0', 'Is_HH_Have_Trucks_1', 'Is_HH_Have_Animal_cart_0', 'Is_HH_Have_Animal_cart_1', 'Is_HH_Have_Refrigerator_0', 'Is_HH_Have_Refrigerator_1', 'Is_HH_Have_Washing_machine_0', 'Is_HH_Have_Washing_machine_1', 'Is_HH_Have_Airconditioner_aircooler_0', 'Is_HH_Have_Airconditioner_aircooler_1', 'Marital_Status_head_1', 'Marital_Status_head_2', 'Marital_Status_head_3', 'Marital_Status_head_4', 'Whether_used_internet_from_any_location_during_last_30_days_1', 'Whether_used_internet_from_any_location_during_last_30_days_2']\n",
            "Test Columns: ['HH_Size__For_FDQ_', 'Male_Count', 'Female_Count', 'Other_Count', 'Age_0_18', 'Age_18_60', 'Age_60_above', 'Highest_educational_level_attained_head', 'Total_year_of_education_completed_head', 'Highest_educational_level_attained_median', 'Total_year_of_education_completed_median', 'No__of_days_stayed_away_from_home_during_last_30_days_avg', 'No__of_meals_usually_taken_in_a_day_avg', 'No__of_meals_taken_during_last_30_days_from_school__balwadi_etc__avg', 'No__of_meals_taken_during_last_30_days_from_employer_as_perquisites_or_part_of_wage_avg', 'No__of_meals_taken_during_last_30_days_others_avg', 'No__of_meals_taken_during_last_30_days_on_payment_avg', 'No__of_meals_taken_during_last_30_days_at_home_avg', 'Sector_1', 'Sector_2', 'State_1', 'State_2', 'State_3', 'State_4', 'State_5', 'State_6', 'State_7', 'State_8', 'State_9', 'State_10', 'State_11', 'State_12', 'State_13', 'State_14', 'State_15', 'State_16', 'State_17', 'State_18', 'State_19', 'State_20', 'State_21', 'State_22', 'State_23', 'State_24', 'State_25', 'State_27', 'State_28', 'State_29', 'State_30', 'State_31', 'State_32', 'State_33', 'State_34', 'State_35', 'State_36', 'State_37', 'Household_Type_1', 'Household_Type_2', 'Household_Type_3', 'Household_Type_4', 'Household_Type_5', 'Household_Type_6', 'Household_Type_9', 'NCO_2D_11', 'NCO_2D_12', 'NCO_2D_13', 'NCO_2D_14', 'NCO_2D_21', 'NCO_2D_22', 'NCO_2D_23', 'NCO_2D_24', 'NCO_2D_25', 'NCO_2D_26', 'NCO_2D_31', 'NCO_2D_32', 'NCO_2D_33', 'NCO_2D_34', 'NCO_2D_35', 'NCO_2D_41', 'NCO_2D_42', 'NCO_2D_43', 'NCO_2D_44', 'NCO_2D_51', 'NCO_2D_52', 'NCO_2D_53', 'NCO_2D_54', 'NCO_2D_61', 'NCO_2D_62', 'NCO_2D_63', 'NCO_2D_71', 'NCO_2D_72', 'NCO_2D_73', 'NCO_2D_74', 'NCO_2D_75', 'NCO_2D_81', 'NCO_2D_82', 'NCO_2D_83', 'NCO_2D_91', 'NCO_2D_92', 'NCO_2D_93', 'NCO_2D_94', 'NCO_2D_95', 'NCO_2D_96', 'NIC_2D_10', 'NIC_2D_11', 'NIC_2D_12', 'NIC_2D_13', 'NIC_2D_14', 'NIC_2D_15', 'NIC_2D_16', 'NIC_2D_17', 'NIC_2D_18', 'NIC_2D_19', 'NIC_2D_20', 'NIC_2D_21', 'NIC_2D_22', 'NIC_2D_23', 'NIC_2D_24', 'NIC_2D_25', 'NIC_2D_26', 'NIC_2D_27', 'NIC_2D_28', 'NIC_2D_29', 'NIC_2D_30', 'NIC_2D_31', 'NIC_2D_32', 'NIC_2D_33', 'NIC_2D_35', 'NIC_2D_36', 'NIC_2D_37', 'NIC_2D_38', 'NIC_2D_39', 'NIC_2D_41', 'NIC_2D_42', 'NIC_2D_43', 'NIC_2D_45', 'NIC_2D_46', 'NIC_2D_47', 'NIC_2D_49', 'NIC_2D_50', 'NIC_2D_51', 'NIC_2D_52', 'NIC_2D_53', 'NIC_2D_55', 'NIC_2D_56', 'NIC_2D_58', 'NIC_2D_59', 'NIC_2D_60', 'NIC_2D_61', 'NIC_2D_62', 'NIC_2D_63', 'NIC_2D_64', 'NIC_2D_65', 'NIC_2D_66', 'NIC_2D_68', 'NIC_2D_69', 'NIC_2D_70', 'NIC_2D_71', 'NIC_2D_72', 'NIC_2D_73', 'NIC_2D_74', 'NIC_2D_75', 'NIC_2D_77', 'NIC_2D_78', 'NIC_2D_79', 'NIC_2D_80', 'NIC_2D_81', 'NIC_2D_82', 'NIC_2D_84', 'NIC_2D_85', 'NIC_2D_86', 'NIC_2D_87', 'NIC_2D_88', 'NIC_2D_89', 'NIC_2D_90', 'NIC_2D_91', 'NIC_2D_92', 'NIC_2D_93', 'NIC_2D_94', 'NIC_2D_95', 'NIC_2D_96', 'NIC_2D_97', 'NIC_2D_99', 'Religion_of_the_head_of_the_household_0', 'Religion_of_the_head_of_the_household_1', 'Religion_of_the_head_of_the_household_2', 'Religion_of_the_head_of_the_household_3', 'Religion_of_the_head_of_the_household_4', 'Religion_of_the_head_of_the_household_5', 'Religion_of_the_head_of_the_household_6', 'Religion_of_the_head_of_the_household_7', 'Religion_of_the_head_of_the_household_9', 'Social_Group_of_the_head_of_the_household_0', 'Social_Group_of_the_head_of_the_household_1', 'Social_Group_of_the_head_of_the_household_2', 'Social_Group_of_the_head_of_the_household_3', 'Social_Group_of_the_head_of_the_household_9', 'Is_online_Clothing_Purchased_Last365_0', 'Is_online_Clothing_Purchased_Last365_1', 'Is_online_Footwear_Purchased_Last365_0', 'Is_online_Footwear_Purchased_Last365_1', 'Is_online_Furniture_fixturesPurchased_Last365_0', 'Is_online_Furniture_fixturesPurchased_Last365_1', 'Is_online_Mobile_Handset_Purchased_Last365_0', 'Is_online_Mobile_Handset_Purchased_Last365_1', 'Is_online_Personal_Goods_Purchased_Last365_0', 'Is_online_Personal_Goods_Purchased_Last365_1', 'Is_online_Recreation_Goods_Purchased_Last365_0', 'Is_online_Recreation_Goods_Purchased_Last365_1', 'Is_online_Household_Appliances_Purchased_Last365_0', 'Is_online_Household_Appliances_Purchased_Last365_1', 'Is_online_Crockery_Utensils_Purchased_Last365_0', 'Is_online_Crockery_Utensils_Purchased_Last365_1', 'Is_online_Sports_Goods_Purchased_Last365_0', 'Is_online_Sports_Goods_Purchased_Last365_1', 'Is_online_Medical_Equipment_Purchased_Last365_0', 'Is_online_Medical_Equipment_Purchased_Last365_1', 'Is_online_Bedding_Purchased_Last365_0', 'Is_online_Bedding_Purchased_Last365_1', 'Is_HH_Have_Television_0', 'Is_HH_Have_Television_1', 'Is_HH_Have_Radio_0', 'Is_HH_Have_Radio_1', 'Is_HH_Have_Laptop_PC_0', 'Is_HH_Have_Laptop_PC_1', 'Is_HH_Have_Mobile_handset_0', 'Is_HH_Have_Mobile_handset_1', 'Is_HH_Have_Bicycle_0', 'Is_HH_Have_Bicycle_1', 'Is_HH_Have_Motorcycle_scooter_0', 'Is_HH_Have_Motorcycle_scooter_1', 'Is_HH_Have_Motorcar_jeep_van_0', 'Is_HH_Have_Motorcar_jeep_van_1', 'Is_HH_Have_Trucks_0', 'Is_HH_Have_Trucks_1', 'Is_HH_Have_Animal_cart_0', 'Is_HH_Have_Animal_cart_1', 'Is_HH_Have_Refrigerator_0', 'Is_HH_Have_Refrigerator_1', 'Is_HH_Have_Washing_machine_0', 'Is_HH_Have_Washing_machine_1', 'Is_HH_Have_Airconditioner_aircooler_0', 'Is_HH_Have_Airconditioner_aircooler_1', 'Marital_Status_head_1', 'Marital_Status_head_2', 'Marital_Status_head_3', 'Marital_Status_head_4', 'Whether_used_internet_from_any_location_during_last_30_days_1', 'Whether_used_internet_from_any_location_during_last_30_days_2']\n",
            "XGBoost - R²: 0.6870, RMSE: 0.3305, MAPE: 2.61%\n",
            "Gradient Boosting - R²: 0.6876, RMSE: 0.3302, MAPE: 2.60%\n"
          ]
        }
      ]
    },
    {
      "cell_type": "code",
      "source": [
        "y_pred_gbr = gbr.predict(X_train)"
      ],
      "metadata": {
        "id": "96yie8hpha3o"
      },
      "execution_count": 30,
      "outputs": []
    },
    {
      "cell_type": "code",
      "source": [
        "# Evaluate Performance\n",
        "def mean_absolute_percentage_error(y_true, y_pred):\n",
        "    return np.mean(np.abs((y_true - y_pred) / y_true)) * 100\n",
        "\n",
        "r2_xgb = r2_score(y_train, y_pred_gbr)\n",
        "rmse_xgb = mean_squared_error(y_train, y_pred_gbr) ** 0.5\n",
        "mape_xgb = mean_absolute_percentage_error(y_train, y_pred_gbr)\n",
        "\n",
        "r2_gbr = r2_score(y_train, y_pred_gbr)\n",
        "rmse_gbr = mean_squared_error(y_train, y_pred_gbr) ** 0.5\n",
        "mape_gbr = mean_absolute_percentage_error(y_train, y_pred_gbr)\n",
        "\n",
        "# Print Results\n",
        "print(f\"XGBoost - R²: {r2_xgb:.4f}, RMSE: {rmse_xgb:.4f}, MAPE: {mape_xgb:.2f}%\")\n",
        "print(f\"Gradient Boosting - R²: {r2_gbr:.4f}, RMSE: {rmse_gbr:.4f}, MAPE: {mape_gbr:.2f}%\")"
      ],
      "metadata": {
        "colab": {
          "base_uri": "https://localhost:8080/"
        },
        "id": "0MSq51aIhdGj",
        "outputId": "928e57bf-3d86-4b45-c76b-a1c0c0bb1ade"
      },
      "execution_count": 31,
      "outputs": [
        {
          "output_type": "stream",
          "name": "stdout",
          "text": [
            "XGBoost - R²: 0.7001, RMSE: 0.3221, MAPE: 2.55%\n",
            "Gradient Boosting - R²: 0.7001, RMSE: 0.3221, MAPE: 2.55%\n"
          ]
        }
      ]
    },
    {
      "cell_type": "code",
      "source": [],
      "metadata": {
        "id": "KwE7xIHdj9PS"
      },
      "execution_count": null,
      "outputs": []
    }
  ]
}